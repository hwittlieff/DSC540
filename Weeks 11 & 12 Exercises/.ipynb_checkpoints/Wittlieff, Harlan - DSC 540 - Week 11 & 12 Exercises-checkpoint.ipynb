{
 "cells": [
  {
   "cell_type": "markdown",
   "id": "3b0f5f96",
   "metadata": {},
   "source": [
    "# Assignment: Weeks 11 & 12 Exercises\n",
    "# Class: DSC 540\n",
    "# Name: Wittlieff, Harlan\n",
    "# Date: 3/4/2022"
   ]
  },
  {
   "cell_type": "markdown",
   "id": "d06c3132",
   "metadata": {},
   "source": [
    "# 1. Connect to petsDB and check whether the connection has been successful."
   ]
  },
  {
   "cell_type": "code",
   "execution_count": 21,
   "id": "0d77b235",
   "metadata": {},
   "outputs": [],
   "source": [
    "# Load library\n",
    "import sqlite3"
   ]
  },
  {
   "cell_type": "code",
   "execution_count": 22,
   "id": "6fb991cd",
   "metadata": {},
   "outputs": [],
   "source": [
    "# Create connection\n",
    "conn = sqlite3.connect(\"data/petsdb\")"
   ]
  },
  {
   "cell_type": "code",
   "execution_count": 23,
   "id": "ce209e94",
   "metadata": {},
   "outputs": [
    {
     "name": "stdout",
     "output_type": "stream",
     "text": [
      "Connection successful!\n"
     ]
    }
   ],
   "source": [
    "# Define function to check connection\n",
    "def check_conn(conn):\n",
    "    try:\n",
    "        print('Connection successful!')\n",
    "    except Exception as ex:\n",
    "        print('Connection failed!')\n",
    "\n",
    "# Test the connection\n",
    "check_conn(conn)"
   ]
  },
  {
   "cell_type": "markdown",
   "id": "edfd60d0",
   "metadata": {},
   "source": [
    "# 2. Find the different age groups in the persons database"
   ]
  },
  {
   "cell_type": "code",
   "execution_count": 26,
   "id": "1ae257c6",
   "metadata": {},
   "outputs": [
    {
     "name": "stdout",
     "output_type": "stream",
     "text": [
      "Age 5 count: 2\n",
      "Age 6 count: 1\n",
      "Age 7 count: 1\n",
      "Age 8 count: 3\n",
      "Age 9 count: 1\n",
      "Age 11 count: 2\n",
      "Age 12 count: 3\n",
      "Age 13 count: 1\n",
      "Age 14 count: 4\n",
      "Age 16 count: 2\n",
      "Age 17 count: 2\n",
      "Age 18 count: 3\n",
      "Age 19 count: 1\n",
      "Age 22 count: 3\n",
      "Age 23 count: 2\n",
      "Age 24 count: 3\n",
      "Age 25 count: 2\n",
      "Age 27 count: 1\n",
      "Age 30 count: 1\n",
      "Age 31 count: 3\n",
      "Age 32 count: 1\n",
      "Age 33 count: 1\n",
      "Age 34 count: 2\n",
      "Age 35 count: 3\n",
      "Age 36 count: 3\n",
      "Age 37 count: 1\n",
      "Age 39 count: 2\n",
      "Age 40 count: 1\n",
      "Age 42 count: 1\n",
      "Age 44 count: 2\n",
      "Age 48 count: 2\n",
      "Age 49 count: 1\n",
      "Age 50 count: 1\n",
      "Age 51 count: 2\n",
      "Age 52 count: 2\n",
      "Age 53 count: 2\n",
      "Age 54 count: 2\n",
      "Age 58 count: 1\n",
      "Age 59 count: 1\n",
      "Age 60 count: 1\n",
      "Age 61 count: 1\n",
      "Age 62 count: 2\n",
      "Age 63 count: 1\n",
      "Age 65 count: 2\n",
      "Age 66 count: 2\n",
      "Age 67 count: 1\n",
      "Age 68 count: 3\n",
      "Age 69 count: 1\n",
      "Age 70 count: 1\n",
      "Age 71 count: 4\n",
      "Age 72 count: 1\n",
      "Age 73 count: 5\n",
      "Age 74 count: 3\n"
     ]
    }
   ],
   "source": [
    "# Build c\n",
    "c = conn.cursor()\n",
    "\n",
    "# Loop through the persons table counting the number of people by age\n",
    "for people, age in c.execute(\"SELECT count(*), age FROM persons GROUP BY age\"):\n",
    "    print('Age', age, 'count:', people)"
   ]
  },
  {
   "cell_type": "markdown",
   "id": "836fb2e3",
   "metadata": {},
   "source": [
    "# 3. Find the age group that has the maximum number of people."
   ]
  },
  {
   "cell_type": "code",
   "execution_count": 29,
   "id": "dd671b02",
   "metadata": {},
   "outputs": [
    {
     "name": "stdout",
     "output_type": "stream",
     "text": [
      "Age 73 count: 5\n"
     ]
    }
   ],
   "source": [
    "# Loop through the persons table counting the number of people by age and sorting the list in descending order\n",
    "for people, age in c.execute(\"SELECT count(*), age FROM persons GROUP BY age ORDER BY count(*) DESC\"):\n",
    "    print('Age', age, 'count:', people)\n",
    "    # Break to only print the first entry\n",
    "    break"
   ]
  },
  {
   "cell_type": "markdown",
   "id": "bca9d8be",
   "metadata": {},
   "source": [
    "# 4. Find the people who do not have a last name."
   ]
  },
  {
   "cell_type": "code",
   "execution_count": 41,
   "id": "80741d8b",
   "metadata": {},
   "outputs": [
    {
     "name": "stdout",
     "output_type": "stream",
     "text": [
      "First name: Erica\n",
      "First name: Jordi\n",
      "First name: Chasity\n",
      "First name: Gregg\n",
      "First name: Cary\n",
      "First name: Francisca\n",
      "First name: Raleigh\n",
      "First name: Maria\n",
      "First name: Mariane\n",
      "First name: Mona\n",
      "First name: Kayla\n",
      "First name: Karlie\n",
      "First name: Morris\n",
      "First name: Sandy\n",
      "First name: Hector\n",
      "First name: Hiram\n",
      "First name: Tressa\n",
      "First name: Berry\n",
      "First name: Pearline\n",
      "First name: Maynard\n",
      "First name: Dorian\n",
      "First name: Mylene\n",
      "First name: Lafayette\n",
      "First name: Tara\n",
      "First name: Destiny\n",
      "First name: Lesly\n",
      "First name: Perry\n",
      "First name: Maritza\n",
      "First name: Grant\n",
      "First name: Laury\n",
      "First name: Name\n",
      "First name: Estefania\n",
      "First name: Destiney\n",
      "First name: Jaquelin\n",
      "First name: Alfonzo\n",
      "First name: Lisandro\n",
      "First name: Priscilla\n",
      "First name: Elenora\n",
      "First name: Rudolph\n",
      "First name: Ona\n",
      "First name: Rebeca\n",
      "First name: Sigurd\n",
      "First name: Alice\n",
      "First name: Dane\n",
      "First name: Judge\n",
      "First name: Allene\n",
      "First name: Jalen\n",
      "First name: Myron\n",
      "First name: Travon\n",
      "First name: Shayna\n",
      "First name: Myah\n",
      "First name: Letha\n",
      "First name: Felton\n",
      "First name: London\n",
      "First name: Koby\n",
      "First name: Golden\n",
      "First name: Anissa\n",
      "First name: Sid\n",
      "First name: Ernesto\n",
      "First name: Josianne\n"
     ]
    }
   ],
   "source": [
    "# Loop through the persons table selecting first_name where last_name is null\n",
    "for name in c.execute(\"SELECT first_name FROM persons WHERE last_name IS null\"):\n",
    "    print('First name:', name[0])"
   ]
  },
  {
   "cell_type": "markdown",
   "id": "4f2c244f",
   "metadata": {},
   "source": [
    "# 5. Find out how many people have more than one pet. "
   ]
  },
  {
   "cell_type": "code",
   "execution_count": 40,
   "id": "a0b5a298",
   "metadata": {},
   "outputs": [
    {
     "name": "stdout",
     "output_type": "stream",
     "text": [
      "43 people have more than one pet\n"
     ]
    }
   ],
   "source": [
    "# Count the number of instances of recurring owner_ids in the pets table\n",
    "res = c.execute(\"SELECT count(*) FROM (SELECT count(owner_id) FROM pets GROUP BY owner_id HAVING count(owner_id)>1)\")\n",
    "\n",
    "# Print the result\n",
    "for row in res:\n",
    "    print(row[0], 'people have more than one pet')"
   ]
  },
  {
   "cell_type": "markdown",
   "id": "082033cb",
   "metadata": {},
   "source": [
    "# 6. Find out how many pets have received treatment."
   ]
  },
  {
   "cell_type": "code",
   "execution_count": 42,
   "id": "851a58c1",
   "metadata": {},
   "outputs": [
    {
     "name": "stdout",
     "output_type": "stream",
     "text": [
      "36 pets have received treatment\n"
     ]
    }
   ],
   "source": [
    "# Count the number of records where treatment_done = 1\n",
    "res = c.execute(\"SELECT count(*) FROM pets WHERE treatment_done=1\")\n",
    "\n",
    "# Return the result\n",
    "for row in res:\n",
    "    print(row[0], 'pets have received treatment')"
   ]
  },
  {
   "cell_type": "markdown",
   "id": "9ce0bc81",
   "metadata": {},
   "source": [
    "# 7. Find out how many pets have received treatment and the type of pet is known."
   ]
  },
  {
   "cell_type": "code",
   "execution_count": 44,
   "id": "cedba6e5",
   "metadata": {},
   "outputs": [
    {
     "name": "stdout",
     "output_type": "stream",
     "text": [
      "16 pets have receieved treatment with a known type of pet\n"
     ]
    }
   ],
   "source": [
    "# Count the number of records where treatment_done = 1 and pet_type is not null\n",
    "res = c.execute(\"SELECT count(*) FROM pets WHERE treatment_done=1 AND pet_type IS NOT null\")\n",
    "\n",
    "# Return the result\n",
    "for row in res:\n",
    "    print(row[0], 'pets have receieved treatment with a known type of pet')"
   ]
  },
  {
   "cell_type": "markdown",
   "id": "9628c495",
   "metadata": {},
   "source": [
    "# 8. Find out how many pets are from the city called east port."
   ]
  },
  {
   "cell_type": "code",
   "execution_count": 47,
   "id": "24ac42c9",
   "metadata": {},
   "outputs": [
    {
     "name": "stdout",
     "output_type": "stream",
     "text": [
      "49 pets are from East Port\n"
     ]
    }
   ],
   "source": [
    "# Join the pets and persons tables, count the records where city=eastport\n",
    "res = c.execute(\"SELECT count(*) FROM pets JOIN persons on pets.owner_id = persons.id WHERE persons.city='east port'\")\n",
    "\n",
    "# Return the result\n",
    "for row in res:\n",
    "    print(row[0], 'pets are from East Port')"
   ]
  },
  {
   "cell_type": "markdown",
   "id": "f6e121a4",
   "metadata": {},
   "source": [
    "# 9. Find out how many pets are from the city called east port and who received a treatment."
   ]
  },
  {
   "cell_type": "code",
   "execution_count": 48,
   "id": "d397a6ed",
   "metadata": {},
   "outputs": [
    {
     "name": "stdout",
     "output_type": "stream",
     "text": [
      "11 treated pets are from East Port\n"
     ]
    }
   ],
   "source": [
    "# Join the pets and persons tables, count the records where city=eastport and treatment_done=1\n",
    "res = c.execute(\"SELECT count(*) FROM pets JOIN persons on pets.owner_id = persons.id WHERE persons.city='east port' AND pets.treatment_done=1\")\n",
    "\n",
    "# Return the result\n",
    "for row in res:\n",
    "    print(row[0], 'treated pets are from East Port')"
   ]
  },
  {
   "cell_type": "code",
   "execution_count": 49,
   "id": "b39dd7e5",
   "metadata": {},
   "outputs": [],
   "source": [
    "# Close the connection\n",
    "conn.close()"
   ]
  }
 ],
 "metadata": {
  "kernelspec": {
   "display_name": "Python 3",
   "language": "python",
   "name": "python3"
  },
  "language_info": {
   "codemirror_mode": {
    "name": "ipython",
    "version": 3
   },
   "file_extension": ".py",
   "mimetype": "text/x-python",
   "name": "python",
   "nbconvert_exporter": "python",
   "pygments_lexer": "ipython3",
   "version": "3.8.8"
  }
 },
 "nbformat": 4,
 "nbformat_minor": 5
}

{
 "cells": [
  {
   "cell_type": "markdown",
   "id": "3b0f5f96",
   "metadata": {},
   "source": [
    "# Assignment: Weeks 11 & 12 Exercises\n",
    "# Class: DSC 540\n",
    "# Name: Wittlieff, Harlan\n",
    "# Date: 3/4/2022"
   ]
  },
  {
   "cell_type": "markdown",
   "id": "8dc23d5d",
   "metadata": {},
   "source": [
    "## 1. Data Wrangling with Python: Activity 9, page 294"
   ]
  },
  {
   "cell_type": "markdown",
   "id": "86be9fb8",
   "metadata": {},
   "source": [
    "### 1. Import the necessary libraries, including regex and beautifulsoup"
   ]
  },
  {
   "cell_type": "code",
   "execution_count": 1,
   "id": "17f4a758",
   "metadata": {},
   "outputs": [],
   "source": [
    "# Load libraries\n",
    "import urllib.request, urllib.parse, urllib.error\n",
    "import requests\n",
    "from bs4 import BeautifulSoup\n",
    "import ssl\n",
    "import re"
   ]
  },
  {
   "cell_type": "markdown",
   "id": "18cdf7f8",
   "metadata": {},
   "source": [
    "### 2. Check the SSL certificate."
   ]
  },
  {
   "cell_type": "code",
   "execution_count": 2,
   "id": "be8ea9b0",
   "metadata": {},
   "outputs": [],
   "source": [
    "# Ignore SSL certificate errors\n",
    "ctx = ssl.create_default_context()\n",
    "ctx.check_hostname = False\n",
    "ctx.verify_mode = ssl.CERT_NONE"
   ]
  },
  {
   "cell_type": "markdown",
   "id": "dec2bfdf",
   "metadata": {},
   "source": [
    "### 3. Read the HTML from the URL."
   ]
  },
  {
   "cell_type": "code",
   "execution_count": 5,
   "id": "a17bb1da",
   "metadata": {},
   "outputs": [],
   "source": [
    "# URL\n",
    "url = 'https://www.gutenberg.org/browse/scores/top'\n",
    "\n",
    "# Get the response\n",
    "response = requests.get(url)"
   ]
  },
  {
   "cell_type": "markdown",
   "id": "2d03adac",
   "metadata": {},
   "source": [
    "### 4. Write a small function to check the status of the web request."
   ]
  },
  {
   "cell_type": "code",
   "execution_count": 6,
   "id": "b4b3786b",
   "metadata": {},
   "outputs": [],
   "source": [
    "# Define a function to check the status\n",
    "def check_status(r):\n",
    "    if r.status_code==200:\n",
    "        print(\"Connection Successful!\")\n",
    "        return 1\n",
    "    else:\n",
    "        print(\"Connection Failed!\")\n",
    "        return -1"
   ]
  },
  {
   "cell_type": "code",
   "execution_count": 7,
   "id": "b616c66e",
   "metadata": {},
   "outputs": [
    {
     "name": "stdout",
     "output_type": "stream",
     "text": [
      "Connection Successful!\n"
     ]
    },
    {
     "data": {
      "text/plain": [
       "1"
      ]
     },
     "execution_count": 7,
     "metadata": {},
     "output_type": "execute_result"
    }
   ],
   "source": [
    "# Check the status\n",
    "check_status(response)"
   ]
  },
  {
   "cell_type": "markdown",
   "id": "ab9322fb",
   "metadata": {},
   "source": [
    "### 5. Decode the response and pass this on to Beautiful Soup for HTML parsing."
   ]
  },
  {
   "cell_type": "code",
   "execution_count": 10,
   "id": "a41adb05",
   "metadata": {},
   "outputs": [],
   "source": [
    "# Obtain contents\n",
    "contents = response.content.decode(response.encoding)\n",
    "\n",
    "# Parse contents\n",
    "soup = BeautifulSoup(contents,'html.parser')"
   ]
  },
  {
   "cell_type": "markdown",
   "id": "1027ef89",
   "metadata": {},
   "source": [
    "### 6. Find all the href tags and store them in the list of links. Check what the list looks like - print the first 30 elements"
   ]
  },
  {
   "cell_type": "code",
   "execution_count": 11,
   "id": "b3256d91",
   "metadata": {},
   "outputs": [],
   "source": [
    "# Establish empty list\n",
    "href_list = []"
   ]
  },
  {
   "cell_type": "code",
   "execution_count": 12,
   "id": "fd3945fb",
   "metadata": {},
   "outputs": [],
   "source": [
    "# Find all the href links\n",
    "for link in soup.find_all('a'):\n",
    "    # Append the list\n",
    "    href_list.append(link.get('href'))"
   ]
  },
  {
   "cell_type": "code",
   "execution_count": 49,
   "id": "e4e37345",
   "metadata": {},
   "outputs": [
    {
     "data": {
      "text/plain": [
       "['/',\n",
       " '/about/',\n",
       " '/about/',\n",
       " '/policy/collection_development.html',\n",
       " '/about/contact_information.html',\n",
       " '/about/background/',\n",
       " '/policy/permission.html',\n",
       " '/policy/privacy_policy.html',\n",
       " '/policy/terms_of_use.html',\n",
       " '/ebooks/',\n",
       " '/ebooks/',\n",
       " '/ebooks/bookshelf/',\n",
       " '/browse/scores/top',\n",
       " '/ebooks/offline_catalogs.html',\n",
       " '/help/',\n",
       " '/help/',\n",
       " '/help/copyright.html',\n",
       " '/help/errata.html',\n",
       " '/help/file_formats.html',\n",
       " '/help/faq.html',\n",
       " '/policy/',\n",
       " '/help/public_domain_ebook_submission.html',\n",
       " '/help/submitting_your_own_work.html',\n",
       " '/help/mobile.html',\n",
       " '/attic/',\n",
       " '/donate/',\n",
       " '/donate/',\n",
       " '#books-last1',\n",
       " '#authors-last1',\n",
       " '#books-last7']"
      ]
     },
     "execution_count": 49,
     "metadata": {},
     "output_type": "execute_result"
    }
   ],
   "source": [
    "# View the first 30 href links\n",
    "href_list[:30]"
   ]
  },
  {
   "cell_type": "markdown",
   "id": "d6701411",
   "metadata": {},
   "source": [
    "### 7. Use a regular expression to find the numeric digits in these links. These are the file numbers for the top 100 eBooks. & 8. Initialize the empty list to hold the file numbers over an appropriate range and use regex to find the numeric digits in the link href string. Use the findall method."
   ]
  },
  {
   "cell_type": "code",
   "execution_count": 46,
   "id": "19198e77",
   "metadata": {},
   "outputs": [],
   "source": [
    "# Establish empty list\n",
    "file_numbers = []"
   ]
  },
  {
   "cell_type": "code",
   "execution_count": 47,
   "id": "ac1ab4e8",
   "metadata": {},
   "outputs": [],
   "source": [
    "# Loop through the list of href links to find the numericals. Note: the links 33-133 contain the books\n",
    "for i in range(33,133):\n",
    "    l = href_list[i]\n",
    "    # Remove whitespace\n",
    "    l=l.strip()\n",
    "    # Find the numericals in the link\n",
    "    n=re.findall('[0-9]+',l)\n",
    "    # If numericals are found, add the filenumber to the file_number list\n",
    "    if len(n)==1:\n",
    "        file_numbers.append(int(n[0]))"
   ]
  },
  {
   "cell_type": "code",
   "execution_count": 45,
   "id": "06c3c75e",
   "metadata": {},
   "outputs": [
    {
     "name": "stdout",
     "output_type": "stream",
     "text": [
      "[84, 1342, 11, 2701, 1661, 1952, 67429, 25344, 64317, 174, 98, 2542, 345, 76, 46, 1080, 67430, 1260, 4300, 1400, 43, 1232, 844, 6130, 67426, 2591, 219, 2554, 5200, 74, 408, 23, 67422, 2600, 514, 67425, 1497, 5740, 205, 730, 160, 28054, 35, 215, 55, 140, 32449, 1184, 45, 120, 209, 67428, 1250, 16, 1727, 58585, 996, 67431, 30254, 768, 19942, 3600, 15399, 67427, 43453, 20203, 135, 158, 2814, 1399, 4363, 26184, 203, 3207, 829, 2852, 19033, 103, 2500, 244, 7370, 36, 113, 3825, 600, 67098, 67423, 161, 863, 55283, 27827, 16328, 4217, 67433, 1597, 42324, 67434, 1998, 10]\n"
     ]
    }
   ],
   "source": [
    "# View the file_numbers\n",
    "print(file_numbers)"
   ]
  },
  {
   "cell_type": "markdown",
   "id": "27edb916",
   "metadata": {},
   "source": [
    "### 9. What does the soup object's text look like? Use the .text method and print only the first 2,000 characters (do not print the whole thing, as it is too long)."
   ]
  },
  {
   "cell_type": "code",
   "execution_count": 52,
   "id": "ff42c170",
   "metadata": {},
   "outputs": [
    {
     "name": "stdout",
     "output_type": "stream",
     "text": [
      "\n",
      "\n",
      "\n",
      "\n",
      "Top 100 | Project Gutenberg\n",
      "\n",
      "\n",
      "\n",
      "\n",
      "\n",
      "\n",
      "\n",
      "\n",
      "\n",
      "\n",
      "\n",
      "\n",
      "\n",
      "\n",
      "\n",
      "\n",
      "\n",
      "\n",
      "\n",
      "\n",
      "\n",
      "\n",
      "\n",
      "\n",
      "\n",
      "\n",
      "\n",
      "Menu▾\n",
      "\n",
      "\n",
      "\n",
      "About\n",
      "          ▾\n",
      "\n",
      "▾\n",
      "\n",
      "\n",
      "About Project Gutenberg\n",
      "Collection Development\n",
      "Contact Us\n",
      "History & Philosophy\n",
      "Permissions & License\n",
      "Privacy Policy\n",
      "Terms of Use\n",
      "\n",
      "\n",
      "\n",
      "Search and Browse\n",
      "      \t  ▾\n",
      "\n",
      "▾\n",
      "\n",
      "\n",
      "Book Search\n",
      "Bookshelves\n",
      "Frequently Downloaded\n",
      "Offline Catalogs\n",
      "\n",
      "\n",
      "\n",
      "Help\n",
      "          ▾\n",
      "\n",
      "▾\n",
      "\n",
      "\n",
      "All help topics →\n",
      "Copyright Procedures\n",
      "Errata, Fixes and Bug Reports\n",
      "File Formats\n",
      "Frequently Asked Questions\n",
      "Policies →\n",
      "Public Domain eBook Submission\n",
      "Submitting Your Own Work\n",
      "Tablets, Phones and eReaders\n",
      "The Attic →\n",
      "\n",
      "\n",
      "Donate\n",
      "\n",
      "\n",
      "\n",
      "\n",
      "\n",
      "\n",
      "\n",
      "\n",
      "\n",
      "\n",
      "Donation\n",
      "\n",
      "\n",
      "\n",
      "\n",
      "\n",
      "\n",
      "\n",
      "Frequently Viewed or Downloaded\n",
      "These listings are based on the number of times each eBook gets downloaded.\n",
      "      Multiple downloads from the same Internet address on the same day count as one download, and addresses that download more than 100 eBooks in a day are considered robots and are not counted.\n",
      "\n",
      "Downloaded Books\n",
      "2022-02-18125846\n",
      "last 7 days922876\n",
      "last 30 days4289293\n",
      "\n",
      "\n",
      "\n",
      "Top 100 EBooks yesterday\n",
      "Top 100 Authors yesterday\n",
      "Top 100 EBooks last 7 days\n",
      "Top 100 Authors last 7 days\n",
      "Top 100 EBooks last 30 days\n",
      "Top 100 Authors last 30 days\n",
      "\n",
      "\n",
      "Top 100 EBooks yesterday\n",
      "\n",
      "Frankenstein; Or, The Modern Prometheus by Mary Wollstonecraft Shelley (1812)\n",
      "Pride and Prejudice by Jane Austen (1506)\n",
      "Alice's Adventures in Wonderland by Lewis Carroll (696)\n",
      "Moby Dick; Or, The Whale by Herman Melville (680)\n",
      "The Adventures of Sherlock Holmes by Arthur Conan Doyle (620)\n",
      "The Yellow Wallpaper by Charlotte Perkins Gilman (590)\n",
      "The Thing Beyond Reason by Elisabeth Sanxay Holding (588)\n",
      "The Scarlet Letter by Nathaniel Hawthorne (576)\n",
      "The Great Gatsby by F. Scott  Fitzgerald (575)\n",
      "The Picture of Dorian Gray by Oscar Wilde (513)\n",
      "A Tale of Two Cities by Charles Dickens (501)\n",
      "A Doll's House : a play by Henrik Ibsen (495)\n",
      "Dracula by Bram Stoker (473)\n",
      "Adventures of Huckleberry Finn by Mark Twain (459)\n",
      "A Christmas Carol in Prose; Being a Ghost Story of Christmas by Charles Dickens (450)\n",
      "A Modest Proposal by Jonathan \n"
     ]
    }
   ],
   "source": [
    "# Print the first 2000 character\n",
    "print(soup.text[:2000])"
   ]
  },
  {
   "cell_type": "markdown",
   "id": "4f1707fd",
   "metadata": {},
   "source": [
    "### 10. Search in the extracted text (using a regular expression) from the soup object to find the names of the top 100 eBooks (yesterday's ranking)."
   ]
  },
  {
   "cell_type": "code",
   "execution_count": 93,
   "id": "b7f4ba8b",
   "metadata": {},
   "outputs": [],
   "source": [
    "# Create an empty list of eBook names\n",
    "e_books = []"
   ]
  },
  {
   "cell_type": "markdown",
   "id": "bc49e8e3",
   "metadata": {},
   "source": [
    "### 11. Create a starting index. It should point at the text Top 100 Ebooks yesterday. Use the splitlines method of soup.text. It splits the lines of text of the soup object."
   ]
  },
  {
   "cell_type": "code",
   "execution_count": 84,
   "id": "d04ad64f",
   "metadata": {},
   "outputs": [],
   "source": [
    "# Create the starting index\n",
    "starting_index = soup.text.splitlines().index('Top 100 EBooks yesterday')+9"
   ]
  },
  {
   "cell_type": "markdown",
   "id": "8cfbd305",
   "metadata": {},
   "source": [
    "### 12. Loop 1-100 to add the strings of the next 100 lines to this temporary list. Hint: use the splitlines method."
   ]
  },
  {
   "cell_type": "code",
   "execution_count": 94,
   "id": "75fa9647",
   "metadata": {},
   "outputs": [],
   "source": [
    "# Loop through the books and add them to the list\n",
    "for i in range(101):\n",
    "    e_books.append(soup.text.splitlines()[starting_index+i])"
   ]
  },
  {
   "cell_type": "code",
   "execution_count": 97,
   "id": "d11d6776",
   "metadata": {},
   "outputs": [
    {
     "name": "stdout",
     "output_type": "stream",
     "text": [
      "\n",
      "Frankenstein; Or, The Modern Prometheus by Mary Wollstonecraft Shelley (1812)\n",
      "Pride and Prejudice by Jane Austen (1506)\n",
      "Alice's Adventures in Wonderland by Lewis Carroll (696)\n",
      "Moby Dick; Or, The Whale by Herman Melville (680)\n",
      "The Adventures of Sherlock Holmes by Arthur Conan Doyle (620)\n",
      "The Yellow Wallpaper by Charlotte Perkins Gilman (590)\n",
      "The Thing Beyond Reason by Elisabeth Sanxay Holding (588)\n",
      "The Scarlet Letter by Nathaniel Hawthorne (576)\n",
      "The Great Gatsby by F. Scott  Fitzgerald (575)\n",
      "The Picture of Dorian Gray by Oscar Wilde (513)\n",
      "A Tale of Two Cities by Charles Dickens (501)\n",
      "A Doll's House : a play by Henrik Ibsen (495)\n",
      "Dracula by Bram Stoker (473)\n",
      "Adventures of Huckleberry Finn by Mark Twain (459)\n",
      "A Christmas Carol in Prose; Being a Ghost Story of Christmas by Charles Dickens (450)\n",
      "A Modest Proposal by Jonathan Swift (443)\n",
      "Cricket by Elizabeth Weston Timlow (421)\n",
      "Jane Eyre: An Autobiography by Charlotte Brontë (415)\n",
      "Ulysses by James Joyce (409)\n",
      "Great Expectations by Charles Dickens (400)\n",
      "The Strange Case of Dr. Jekyll and Mr. Hyde by Robert Louis Stevenson (391)\n",
      "The Prince by Niccolò Machiavelli (374)\n",
      "The Importance of Being Earnest: A Trivial Comedy for Serious People by Oscar Wilde (360)\n",
      "The Iliad by Homer (350)\n",
      "Bantu Beliefs and Magic by Charles William Hobley (324)\n",
      "Grimms' Fairy Tales by Jacob Grimm and Wilhelm Grimm (322)\n",
      "Heart of Darkness by Joseph Conrad (318)\n",
      "Crime and Punishment by Fyodor Dostoyevsky (303)\n",
      "Metamorphosis by Franz Kafka (297)\n",
      "The Adventures of Tom Sawyer, Complete by Mark Twain (296)\n",
      "The Souls of Black Folk by W. E. B.  Du Bois (295)\n",
      "Narrative of the Life of Frederick Douglass, an American Slave by Frederick Douglass (286)\n",
      "The Black Cat (Vol. I, No. 1, October 1895) by Various (283)\n",
      "War and Peace by graf Leo Tolstoy (270)\n",
      "Little Women by Louisa May Alcott (270)\n",
      "Knightly Legends of Wales: or The Boy's Mabinogion Being the Earliest Welsh Tales of King Arthur in  (268)\n",
      "The Republic by Plato (254)\n",
      "Tractatus Logico-Philosophicus by Ludwig Wittgenstein (246)\n",
      "Walden, and On The Duty Of Civil Disobedience by Henry David Thoreau (243)\n",
      "Oliver Twist by Charles Dickens (243)\n",
      "The Awakening, and Selected Short Stories by Kate Chopin (240)\n",
      "The Brothers Karamazov by Fyodor Dostoyevsky (236)\n",
      "The Time Machine by H. G.  Wells (231)\n",
      "The Call of the Wild by Jack London (220)\n",
      "The Wonderful Wizard of Oz by L. Frank  Baum (218)\n",
      "The Jungle by Upton Sinclair (217)\n",
      "Japanese Girls and Women by Alice Mabel Bacon (216)\n",
      "The Count of Monte Cristo, Illustrated by Alexandre Dumas (214)\n",
      "Anne of Green Gables by L. M.  Montgomery (213)\n",
      "Treasure Island by Robert Louis Stevenson (212)\n",
      "The Turn of the Screw by Henry James (212)\n",
      "Type and Presses in America: A Brief Historical Sketch of the Development of Type Casting and Press  (211)\n",
      "Anthem by Ayn Rand (211)\n",
      "Peter Pan by J. M.  Barrie (205)\n",
      "The Odyssey by Homer (205)\n",
      "The Prophet by Kahlil Gibran (201)\n",
      "Don Quixote by Miguel de Cervantes Saavedra (200)\n",
      "The Buckaroo of Blue Wells by W. C.  Tuttle (189)\n",
      "The Romance of Lust: A classic Victorian erotic novel by Anonymous (186)\n",
      "Wuthering Heights by Emily Brontë (185)\n",
      "Candide by Voltaire (183)\n",
      "Essays of Michel de Montaigne — Complete by Michel de Montaigne (183)\n",
      "The Interesting Narrative of the Life of Olaudah Equiano, Or Gustavus Vassa, The African by Equiano (181)\n",
      "L'Ingénue Libertine by Colette (179)\n",
      "A Pickle for the Knowing Ones by Timothy Dexter (179)\n",
      "Autobiography of Benjamin Franklin by Benjamin Franklin (178)\n",
      "Les Misérables by Victor Hugo (178)\n",
      "Emma by Jane Austen (177)\n",
      "Dubliners by James Joyce (177)\n",
      "Anna Karenina by graf Leo Tolstoy (176)\n",
      "Beyond Good and Evil by Friedrich Wilhelm Nietzsche (175)\n",
      "Simple Sabotage Field Manual by United States. Office of Strategic Services (175)\n",
      "Uncle Tom's Cabin by Harriet Beecher Stowe (173)\n",
      "Leviathan by Thomas Hobbes (171)\n",
      "Gulliver's Travels into Several Remote Nations of the World by Jonathan Swift (170)\n",
      "The Hound of the Baskervilles by Arthur Conan Doyle (170)\n",
      "Alice's Adventures in Wonderland by Lewis Carroll (168)\n",
      "Around the World in Eighty Days by Jules Verne (164)\n",
      "Siddhartha by Hermann Hesse (164)\n",
      "A Study in Scarlet by Arthur Conan Doyle (161)\n",
      "Second Treatise of Government by John Locke (161)\n",
      "The War of the Worlds by H. G.  Wells (159)\n",
      "The Secret Garden by Frances Hodgson Burnett (159)\n",
      "Pygmalion by Bernard Shaw (157)\n",
      "Notes from the Underground by Fyodor Dostoyevsky (154)\n",
      "Winnie-the-Pooh by A. A.  Milne (150)\n",
      "The Elizabethan Stage (Vol 2 of 4) by E. K.  Chambers (147)\n",
      "Sense and Sensibility by Jane Austen (147)\n",
      "The Mysterious Affair at Styles by Agatha Christie (146)\n",
      "The Bet, and other stories by Anton Pavlovich Chekhov (146)\n",
      "The Kama Sutra of Vatsyayana by Vatsyayana (144)\n",
      "Beowulf: An Anglo-Saxon Epic Poem (140)\n",
      "A Portrait of the Artist as a Young Man by James Joyce (140)\n",
      "Dixie Kitten by Eva March Tappan (139)\n",
      "Andersen's Fairy Tales by H. C.  Andersen (138)\n",
      "Frankenstein; Or, The Modern Prometheus by Mary Wollstonecraft Shelley (136)\n",
      "Graham's Magazine, Vol. XX, No. 1, January 1842 by Various (133)\n",
      "Thus Spake Zarathustra: A Book for All and None by Friedrich Wilhelm Nietzsche (132)\n",
      "The King James Version of the Bible (129)\n",
      "The Jungle Book by Rudyard Kipling (128)\n"
     ]
    }
   ],
   "source": [
    "# view the list of books\n",
    "for book in e_books:\n",
    "    print(book)"
   ]
  },
  {
   "cell_type": "markdown",
   "id": "be5a89bf",
   "metadata": {},
   "source": [
    "### 13. Use a regular expression to extract only text from the name strings and append it to an empty list. Use match and span to find the indices and use them."
   ]
  },
  {
   "cell_type": "code",
   "execution_count": 95,
   "id": "2fce5685",
   "metadata": {},
   "outputs": [],
   "source": [
    "# Create the empty list\n",
    "top_100_ebooks = []"
   ]
  },
  {
   "cell_type": "code",
   "execution_count": 100,
   "id": "e8955fab",
   "metadata": {},
   "outputs": [],
   "source": [
    "# Remove the non-text\n",
    "for i in range(100):\n",
    "    start,stop=re.match('^[a-zA-Z ]*',e_books[i]).span()\n",
    "    top_100_ebooks.append(e_books[i][start:stop])"
   ]
  },
  {
   "cell_type": "code",
   "execution_count": 101,
   "id": "b417aecf",
   "metadata": {},
   "outputs": [
    {
     "name": "stdout",
     "output_type": "stream",
     "text": [
      "\n",
      "Frankenstein\n",
      "Pride and Prejudice by Jane Austen \n",
      "Alice\n",
      "Moby Dick\n",
      "The Adventures of Sherlock Holmes by Arthur Conan Doyle \n",
      "The Yellow Wallpaper by Charlotte Perkins Gilman \n",
      "The Thing Beyond Reason by Elisabeth Sanxay Holding \n",
      "The Scarlet Letter by Nathaniel Hawthorne \n",
      "The Great Gatsby by F\n",
      "The Picture of Dorian Gray by Oscar Wilde \n",
      "A Tale of Two Cities by Charles Dickens \n",
      "A Doll\n",
      "Dracula by Bram Stoker \n",
      "Adventures of Huckleberry Finn by Mark Twain \n",
      "A Christmas Carol in Prose\n",
      "A Modest Proposal by Jonathan Swift \n",
      "Cricket by Elizabeth Weston Timlow \n",
      "Jane Eyre\n",
      "Ulysses by James Joyce \n",
      "Great Expectations by Charles Dickens \n",
      "The Strange Case of Dr\n",
      "The Prince by Niccol\n",
      "The Importance of Being Earnest\n",
      "The Iliad by Homer \n",
      "Bantu Beliefs and Magic by Charles William Hobley \n",
      "Grimms\n",
      "Heart of Darkness by Joseph Conrad \n",
      "Crime and Punishment by Fyodor Dostoyevsky \n",
      "Metamorphosis by Franz Kafka \n",
      "The Adventures of Tom Sawyer\n",
      "The Souls of Black Folk by W\n",
      "Narrative of the Life of Frederick Douglass\n",
      "The Black Cat \n",
      "War and Peace by graf Leo Tolstoy \n",
      "Little Women by Louisa May Alcott \n",
      "Knightly Legends of Wales\n",
      "The Republic by Plato \n",
      "Tractatus Logico\n",
      "Walden\n",
      "Oliver Twist by Charles Dickens \n",
      "The Awakening\n",
      "The Brothers Karamazov by Fyodor Dostoyevsky \n",
      "The Time Machine by H\n",
      "The Call of the Wild by Jack London \n",
      "The Wonderful Wizard of Oz by L\n",
      "The Jungle by Upton Sinclair \n",
      "Japanese Girls and Women by Alice Mabel Bacon \n",
      "The Count of Monte Cristo\n",
      "Anne of Green Gables by L\n",
      "Treasure Island by Robert Louis Stevenson \n",
      "The Turn of the Screw by Henry James \n",
      "Type and Presses in America\n",
      "Anthem by Ayn Rand \n",
      "Peter Pan by J\n",
      "The Odyssey by Homer \n",
      "The Prophet by Kahlil Gibran \n",
      "Don Quixote by Miguel de Cervantes Saavedra \n",
      "The Buckaroo of Blue Wells by W\n",
      "The Romance of Lust\n",
      "Wuthering Heights by Emily Bront\n",
      "Candide by Voltaire \n",
      "Essays of Michel de Montaigne \n",
      "The Interesting Narrative of the Life of Olaudah Equiano\n",
      "L\n",
      "A Pickle for the Knowing Ones by Timothy Dexter \n",
      "Autobiography of Benjamin Franklin by Benjamin Franklin \n",
      "Les Mis\n",
      "Emma by Jane Austen \n",
      "Dubliners by James Joyce \n",
      "Anna Karenina by graf Leo Tolstoy \n",
      "Beyond Good and Evil by Friedrich Wilhelm Nietzsche \n",
      "Simple Sabotage Field Manual by United States\n",
      "Uncle Tom\n",
      "Leviathan by Thomas Hobbes \n",
      "Gulliver\n",
      "The Hound of the Baskervilles by Arthur Conan Doyle \n",
      "Alice\n",
      "Around the World in Eighty Days by Jules Verne \n",
      "Siddhartha by Hermann Hesse \n",
      "A Study in Scarlet by Arthur Conan Doyle \n",
      "Second Treatise of Government by John Locke \n",
      "The War of the Worlds by H\n",
      "The Secret Garden by Frances Hodgson Burnett \n",
      "Pygmalion by Bernard Shaw \n",
      "Notes from the Underground by Fyodor Dostoyevsky \n",
      "Winnie\n",
      "The Elizabethan Stage \n",
      "Sense and Sensibility by Jane Austen \n",
      "The Mysterious Affair at Styles by Agatha Christie \n",
      "The Bet\n",
      "The Kama Sutra of Vatsyayana by Vatsyayana \n",
      "Beowulf\n",
      "A Portrait of the Artist as a Young Man by James Joyce \n",
      "Dixie Kitten by Eva March Tappan \n",
      "Andersen\n",
      "Frankenstein\n",
      "Graham\n",
      "Thus Spake Zarathustra\n",
      "The King James Version of the Bible \n",
      "\n",
      "Frankenstein\n",
      "Pride and Prejudice by Jane Austen \n",
      "Alice\n",
      "Moby Dick\n",
      "The Adventures of Sherlock Holmes by Arthur Conan Doyle \n",
      "The Yellow Wallpaper by Charlotte Perkins Gilman \n",
      "The Thing Beyond Reason by Elisabeth Sanxay Holding \n",
      "The Scarlet Letter by Nathaniel Hawthorne \n",
      "The Great Gatsby by F\n",
      "The Picture of Dorian Gray by Oscar Wilde \n",
      "A Tale of Two Cities by Charles Dickens \n",
      "A Doll\n",
      "Dracula by Bram Stoker \n",
      "Adventures of Huckleberry Finn by Mark Twain \n",
      "A Christmas Carol in Prose\n",
      "A Modest Proposal by Jonathan Swift \n",
      "Cricket by Elizabeth Weston Timlow \n",
      "Jane Eyre\n",
      "Ulysses by James Joyce \n",
      "Great Expectations by Charles Dickens \n",
      "The Strange Case of Dr\n",
      "The Prince by Niccol\n",
      "The Importance of Being Earnest\n",
      "The Iliad by Homer \n",
      "Bantu Beliefs and Magic by Charles William Hobley \n",
      "Grimms\n",
      "Heart of Darkness by Joseph Conrad \n",
      "Crime and Punishment by Fyodor Dostoyevsky \n",
      "Metamorphosis by Franz Kafka \n",
      "The Adventures of Tom Sawyer\n",
      "The Souls of Black Folk by W\n",
      "Narrative of the Life of Frederick Douglass\n",
      "The Black Cat \n",
      "War and Peace by graf Leo Tolstoy \n",
      "Little Women by Louisa May Alcott \n",
      "Knightly Legends of Wales\n",
      "The Republic by Plato \n",
      "Tractatus Logico\n",
      "Walden\n",
      "Oliver Twist by Charles Dickens \n",
      "The Awakening\n",
      "The Brothers Karamazov by Fyodor Dostoyevsky \n",
      "The Time Machine by H\n",
      "The Call of the Wild by Jack London \n",
      "The Wonderful Wizard of Oz by L\n",
      "The Jungle by Upton Sinclair \n",
      "Japanese Girls and Women by Alice Mabel Bacon \n",
      "The Count of Monte Cristo\n",
      "Anne of Green Gables by L\n",
      "Treasure Island by Robert Louis Stevenson \n",
      "The Turn of the Screw by Henry James \n",
      "Type and Presses in America\n",
      "Anthem by Ayn Rand \n",
      "Peter Pan by J\n",
      "The Odyssey by Homer \n",
      "The Prophet by Kahlil Gibran \n",
      "Don Quixote by Miguel de Cervantes Saavedra \n",
      "The Buckaroo of Blue Wells by W\n",
      "The Romance of Lust\n",
      "Wuthering Heights by Emily Bront\n",
      "Candide by Voltaire \n",
      "Essays of Michel de Montaigne \n",
      "The Interesting Narrative of the Life of Olaudah Equiano\n",
      "L\n",
      "A Pickle for the Knowing Ones by Timothy Dexter \n",
      "Autobiography of Benjamin Franklin by Benjamin Franklin \n",
      "Les Mis\n",
      "Emma by Jane Austen \n",
      "Dubliners by James Joyce \n",
      "Anna Karenina by graf Leo Tolstoy \n",
      "Beyond Good and Evil by Friedrich Wilhelm Nietzsche \n",
      "Simple Sabotage Field Manual by United States\n",
      "Uncle Tom\n",
      "Leviathan by Thomas Hobbes \n",
      "Gulliver\n",
      "The Hound of the Baskervilles by Arthur Conan Doyle \n",
      "Alice\n",
      "Around the World in Eighty Days by Jules Verne \n",
      "Siddhartha by Hermann Hesse \n",
      "A Study in Scarlet by Arthur Conan Doyle \n",
      "Second Treatise of Government by John Locke \n",
      "The War of the Worlds by H\n",
      "The Secret Garden by Frances Hodgson Burnett \n",
      "Pygmalion by Bernard Shaw \n",
      "Notes from the Underground by Fyodor Dostoyevsky \n",
      "Winnie\n",
      "The Elizabethan Stage \n",
      "Sense and Sensibility by Jane Austen \n",
      "The Mysterious Affair at Styles by Agatha Christie \n",
      "The Bet\n",
      "The Kama Sutra of Vatsyayana by Vatsyayana \n",
      "Beowulf\n",
      "A Portrait of the Artist as a Young Man by James Joyce \n",
      "Dixie Kitten by Eva March Tappan \n",
      "Andersen\n",
      "Frankenstein\n",
      "Graham\n",
      "Thus Spake Zarathustra\n",
      "The King James Version of the Bible \n"
     ]
    }
   ],
   "source": [
    "# View the list of book titles\n",
    "for book in top_100_ebooks:\n",
    "    print(book)"
   ]
  },
  {
   "cell_type": "markdown",
   "id": "a52b1b2c",
   "metadata": {},
   "source": [
    "## 2. Data Wrangling with Python: Activity 10, page 295"
   ]
  },
  {
   "cell_type": "markdown",
   "id": "fb529be8",
   "metadata": {},
   "source": [
    "### Import urlib.request, urllib.parse, urllib.error, and json"
   ]
  },
  {
   "cell_type": "code",
   "execution_count": 102,
   "id": "27dbc628",
   "metadata": {},
   "outputs": [],
   "source": [
    "# Load libraries\n",
    "import urllib.request, urllib.parse, urllib.error\n",
    "import json"
   ]
  },
  {
   "cell_type": "markdown",
   "id": "73d7532f",
   "metadata": {},
   "source": [
    "### Load the secret API key (you have to get one from the OMDb website and use that; it has a daily limit of 1,000) from a JSON file stored in the same folder in a variable, by using json.loads."
   ]
  },
  {
   "cell_type": "code",
   "execution_count": 103,
   "id": "9af9d0dd",
   "metadata": {},
   "outputs": [],
   "source": [
    "# Load the API key from the JSON file\n",
    "with open('data/APIkeys.json') as f:\n",
    "    keys = json.load(f)\n",
    "    omdbapikey = keys['apikey']"
   ]
  },
  {
   "cell_type": "markdown",
   "id": "b63de674",
   "metadata": {},
   "source": [
    "### Assign the OMDb portal as a string to a variable"
   ]
  },
  {
   "cell_type": "code",
   "execution_count": 117,
   "id": "cb137c74",
   "metadata": {},
   "outputs": [],
   "source": [
    "# Assign the portal to a variable\n",
    "base_url = 'http://www.omdbapi.com/?'"
   ]
  },
  {
   "cell_type": "markdown",
   "id": "5cb84787",
   "metadata": {},
   "source": [
    "### Create a variable called apikey with the last portion of the URL (&apikey=secretapikey), where secretapikey is your own API key."
   ]
  },
  {
   "cell_type": "code",
   "execution_count": 109,
   "id": "02c31c91",
   "metadata": {},
   "outputs": [],
   "source": [
    "# Create the apikey variable\n",
    "apikey = '&apikey='+omdbapikey"
   ]
  },
  {
   "cell_type": "markdown",
   "id": "8b80f1c0",
   "metadata": {},
   "source": [
    "### Write a utility function called print_json to print the movie data from a JSON file (which we will get from the portal)."
   ]
  },
  {
   "cell_type": "code",
   "execution_count": 112,
   "id": "9d417a2c",
   "metadata": {},
   "outputs": [],
   "source": [
    "# Define the print_json function\n",
    "def print_json(data):\n",
    "    keys = ['Title', 'Year', 'Rated', 'Released', 'Runtime', 'Genre', 'Director', 'Writer', \n",
    "            'Actors', 'Plot', 'Language', 'Country', 'Awards', 'Ratings',\n",
    "            'Metascore', 'imdbRating', 'imdbVotes', 'imdbID']\n",
    "    # print the data\n",
    "    for k in keys:\n",
    "        if k in list(data.keys()):\n",
    "            print(f\"{k}: {data[k]}\")"
   ]
  },
  {
   "cell_type": "markdown",
   "id": "359056e2",
   "metadata": {},
   "source": [
    "### Write a utility function to download a poster of the movie based on the information from the JSON dataset and save it in your local folder. Use the os module. The poster data is stored in the JSON key Poster. Use the Python command to open a file and write the poster data. Close the file after you're done. This function will save the poster data as an image file."
   ]
  },
  {
   "cell_type": "code",
   "execution_count": 122,
   "id": "eaa48453",
   "metadata": {},
   "outputs": [],
   "source": [
    "def save_poster(data):\n",
    "    # Load libraries\n",
    "    import os\n",
    "    # Obtain the title & poster from the data\n",
    "    title = data['Title']\n",
    "    poster_url = data['Poster']\n",
    "    # Obtain the file extension\n",
    "    poster_file_extension=poster_url.split('.')[-1]\n",
    "    # Read the file\n",
    "    poster_data = urllib.request.urlopen(poster_url).read()\n",
    "    # Obtain/Create the file directory for the poster\n",
    "    savelocation=os.getcwd()+'\\\\'+'Posters'+'\\\\'\n",
    "    if not os.path.isdir(savelocation):\n",
    "        os.mkdir(savelocation)\n",
    "    # Establish the filename & save the file\n",
    "    filename=savelocation+str(title)+'.'+poster_file_extension\n",
    "    f=open(filename,'wb')\n",
    "    f.write(poster_data)\n",
    "    f.close()"
   ]
  },
  {
   "cell_type": "markdown",
   "id": "4218f7e0",
   "metadata": {},
   "source": [
    "### Write a utility function called search_movie to search for a movie by its name, print the downloaded JSON data, and save the movie poster in the local folder. Use a try-except loop for this. Use the previously created serviceurl and apikey variables. You have to pass on a dictionary with a key, t, and the movie name as the corresponding value to the urllib.parse.urlencode() function and then add the serviceurl and apikey to the output of the function to construct the full URL. This URL will be used to access the data. The JSON data has a key called Response. If it is True, that means the read was successful. Check this before processing the data. If it's not successful, then print the JSON key Error, which will contain the appropriate error message returned by the movie database."
   ]
  },
  {
   "cell_type": "code",
   "execution_count": 121,
   "id": "1b419081",
   "metadata": {},
   "outputs": [],
   "source": [
    "# Create the function to search for a movie\n",
    "def find_movie(title):\n",
    "    try:\n",
    "        #Build the url from the base, title, & api key\n",
    "        url = base_url + urllib.parse.urlencode({'t': str(title)})+apikey\n",
    "        print(f'Retrieving the data of \"{title}\" now... ')\n",
    "        print(url)\n",
    "        uh = urllib.request.urlopen(url)\n",
    "        data = uh.read()\n",
    "        json_data=json.loads(data)\n",
    "        \n",
    "        # If a response is received, print the data & save the poster\n",
    "        if json_data['Response']=='True':\n",
    "            print_json(json_data)\n",
    "            if json_data['Poster']!='N/A':\n",
    "                save_poster(json_data)\n",
    "        # If a valid response is not received, print an error\n",
    "        else:\n",
    "            print(\"Error encountered: \",json_data['Error'])\n",
    "    except urllib.error.URLError as e:\n",
    "        print(f\"ERROR: {e.reason}\")"
   ]
  },
  {
   "cell_type": "markdown",
   "id": "a9b07cda",
   "metadata": {},
   "source": [
    "### Test the search_movie function by entering Titanic."
   ]
  },
  {
   "cell_type": "code",
   "execution_count": 123,
   "id": "cb56e17a",
   "metadata": {},
   "outputs": [
    {
     "name": "stdout",
     "output_type": "stream",
     "text": [
      "Retrieving the data of \"Titanic\" now... \n",
      "http://www.omdbapi.com/?t=Titanic&apikey=d5522503\n",
      "Title: Titanic\n",
      "Year: 1997\n",
      "Rated: PG-13\n",
      "Released: 19 Dec 1997\n",
      "Runtime: 194 min\n",
      "Genre: Drama, Romance\n",
      "Director: James Cameron\n",
      "Writer: James Cameron\n",
      "Actors: Leonardo DiCaprio, Kate Winslet, Billy Zane\n",
      "Plot: A seventeen-year-old aristocrat falls in love with a kind but poor artist aboard the luxurious, ill-fated R.M.S. Titanic.\n",
      "Language: English, Swedish, Italian, French\n",
      "Country: United States, Mexico\n",
      "Awards: Won 11 Oscars. 125 wins & 83 nominations total\n",
      "Ratings: [{'Source': 'Internet Movie Database', 'Value': '7.8/10'}, {'Source': 'Rotten Tomatoes', 'Value': '89%'}, {'Source': 'Metacritic', 'Value': '75/100'}]\n",
      "Metascore: 75\n",
      "imdbRating: 7.8\n",
      "imdbVotes: 1,117,107\n",
      "imdbID: tt0120338\n"
     ]
    }
   ],
   "source": [
    "# Search for the movie Titanic\n",
    "find_movie('Titanic')"
   ]
  },
  {
   "cell_type": "markdown",
   "id": "241fc9f1",
   "metadata": {},
   "source": [
    "### Test the search_movie function by entering \"Random_error\" (obviously, this will not be found, and you should be able to check whether your error catching code is working properly)."
   ]
  },
  {
   "cell_type": "code",
   "execution_count": 124,
   "id": "6003dcba",
   "metadata": {},
   "outputs": [
    {
     "name": "stdout",
     "output_type": "stream",
     "text": [
      "Retrieving the data of \"Random_error\" now... \n",
      "http://www.omdbapi.com/?t=Random_error&apikey=d5522503\n",
      "Error encountered:  Movie not found!\n"
     ]
    }
   ],
   "source": [
    "# Search for Random_error\n",
    "find_movie('Random_error')"
   ]
  },
  {
   "cell_type": "markdown",
   "id": "80fa2ad3",
   "metadata": {},
   "source": [
    "## 3. Connect to the Twitter API and do a simple data pull"
   ]
  },
  {
   "cell_type": "code",
   "execution_count": 2,
   "id": "94f2ee07",
   "metadata": {},
   "outputs": [],
   "source": [
    "# Load library\n",
    "import twitter\n",
    "\n",
    "# Setup api\n",
    "api = twitter.Api(consumer_key='oLmjZYrx3Apo95oGxA68cMCb7',\n",
    "                  consumer_secret='EiI0b6dyXbFvfKyTT4xh55KDMVAZzFQUJ4sxsICXiczbj885ai',\n",
    "                  access_token_key='1478558981824167941-RfsPdRR1ybfi9FhymGxL9BPlzrV6LA',\n",
    "                  access_token_secret='O4FS1zbTowoKIkMZnU6eVfL8Xj7llN0VEkfIVR3Ut1CPy')"
   ]
  },
  {
   "cell_type": "code",
   "execution_count": 4,
   "id": "f96d84f6",
   "metadata": {},
   "outputs": [
    {
     "name": "stdout",
     "output_type": "stream",
     "text": [
      "{\"created_at\": \"Wed Jan 05 02:48:35 +0000 2022\", \"default_profile\": true, \"default_profile_image\": true, \"favourites_count\": 1, \"followers_count\": 1, \"friends_count\": 13, \"id\": 1478558981824167941, \"id_str\": \"1478558981824167941\", \"name\": \"Harlan Wittlieff\", \"profile_background_color\": \"F5F8FA\", \"profile_image_url\": \"http://abs.twimg.com/sticky/default_profile_images/default_profile_normal.png\", \"profile_image_url_https\": \"https://abs.twimg.com/sticky/default_profile_images/default_profile_normal.png\", \"profile_link_color\": \"1DA1F2\", \"profile_sidebar_border_color\": \"C0DEED\", \"profile_sidebar_fill_color\": \"DDEEF6\", \"profile_text_color\": \"333333\", \"profile_use_background_image\": true, \"screen_name\": \"LegendOfClyde\", \"status\": {\"created_at\": \"Wed Jan 05 03:36:36 +0000 2022\", \"id\": 1478571104058806274, \"id_str\": \"1478571104058806274\", \"lang\": \"en\", \"retweet_count\": 619, \"retweeted\": true, \"retweeted_status\": {\"created_at\": \"Tue Jan 04 21:28:56 +0000 2022\", \"favorite_count\": 513, \"id\": 1478478576231927816, \"id_str\": \"1478478576231927816\", \"lang\": \"en\", \"retweet_count\": 619, \"retweeted\": true, \"source\": \"<a href=\\\"http://twitter.com/download/iphone\\\" rel=\\\"nofollow\\\">Twitter for iPhone</a>\", \"text\": \"Giving away this Pikachu VMAX CSR \\ud83d\\udd25\\n\\n- Just retweet &amp; follow @MetroPoke \\n\\nWinner will be drawn LIVE tomorrow on my\\u2026 https://t.co/cpCUH66uF2\", \"truncated\": true}, \"source\": \"<a href=\\\"http://twitter.com/download/iphone\\\" rel=\\\"nofollow\\\">Twitter for iPhone</a>\", \"text\": \"RT @MetroPoke: Giving away this Pikachu VMAX CSR \\ud83d\\udd25\\n\\n- Just retweet &amp; follow @MetroPoke \\n\\nWinner will be drawn LIVE tomorrow on my twitch (1\\u2026\"}, \"statuses_count\": 2, \"withheld_in_countries\": []}\n"
     ]
    }
   ],
   "source": [
    "# Validate credentials\n",
    "print(api.VerifyCredentials())"
   ]
  },
  {
   "cell_type": "code",
   "execution_count": 7,
   "id": "567b0188",
   "metadata": {},
   "outputs": [
    {
     "data": {
      "text/plain": [
       "[Status(ID=1495222829289291779, ScreenName=JimmieAthletics, Created=Sun Feb 20 02:24:37 +0000 2022, Text='(RV)Softball - Won 4-1 over Bellevue University'),\n",
       " Status(ID=1495196150764388353, ScreenName=DroverAthletics, Created=Sun Feb 20 00:38:36 +0000 2022, Text='🔼5⃣: After three full innings, #14 Science &amp; Arts⚾️ holds an 2-1 lead over #24 Bellevue University!\\n\\n📊:… https://t.co/e2vSxaNlWo'),\n",
       " Status(ID=1495175417770164262, ScreenName=Robg1063, Created=Sat Feb 19 23:16:13 +0000 2022, Text='RT @DroverAthletics: ⚾️STARTING LINEUP⚾️\\n#14 Science &amp; Arts 🆚 #24 Bellevue University\\n\\n⏰: 5:15 PM\\n📍: Chickasha, OK\\n🏟️: Bill Smith Ballpark…'),\n",
       " Status(ID=1495175298173878275, ScreenName=TShoe9, Created=Sat Feb 19 23:15:44 +0000 2022, Text='RT @DroverAthletics: ⚾️STARTING LINEUP⚾️\\n#14 Science &amp; Arts 🆚 #24 Bellevue University\\n\\n⏰: 5:15 PM\\n📍: Chickasha, OK\\n🏟️: Bill Smith Ballpark…'),\n",
       " Status(ID=1495175244239319041, ScreenName=DroverAthletics, Created=Sat Feb 19 23:15:31 +0000 2022, Text='⚾️STARTING LINEUP⚾️\\n#14 Science &amp; Arts 🆚 #24 Bellevue University\\n\\n⏰: 5:15 PM\\n📍: Chickasha, OK\\n🏟️: Bill Smith Ballpa… https://t.co/m39EyJVse4'),\n",
       " Status(ID=1495074329796788226, ScreenName=BrandonShumway, Created=Sat Feb 19 16:34:32 +0000 2022, Text='RT @DroverAthletics: #DroverNation🐎 GAMEDAY!\\n#14 Drover⚾️ hosts a double-header against Friends University and #24 Bellevue University!\\n\\n📍:…'),\n",
       " Status(ID=1495050748756992000, ScreenName=kaaykaay44, Created=Sat Feb 19 15:00:49 +0000 2022, Text='RT @MMULancersSB: Back on the turf for ✌🏽 more games in the dome. ⚔️🥎\\n\\n🆚 Dakota State University\\n   🕙 12 PM\\n🆚 Bellevue University\\n   🕓 4 PM…'),\n",
       " Status(ID=1495040988192116738, ScreenName=ike_films, Created=Sat Feb 19 14:22:02 +0000 2022, Text='Nebraska filmmaker, teacher, and writer, Aaron Eugene Stueve, joins Cinematic Heartland: A Filmmaking Podcast to di… https://t.co/tQgHxKh2m3'),\n",
       " Status(ID=1495040980944359431, ScreenName=ALHSathletics, Created=Sat Feb 19 14:22:01 +0000 2022, Text='Saturday Events:\\nIHSMA All State Large Group, Ames\\nNational Union Dance Championships, Orlando\\nAL ROTC Drill @ Bell… https://t.co/0fBp7MlLpE'),\n",
       " Status(ID=1495039552628695047, ScreenName=CoachKaylaB, Created=Sat Feb 19 14:16:20 +0000 2022, Text='RT @MMULancersSB: Back on the turf for ✌🏽 more games in the dome. ⚔️🥎\\n\\n🆚 Dakota State University\\n   🕙 12 PM\\n🆚 Bellevue University\\n   🕓 4 PM…')]"
      ]
     },
     "execution_count": 7,
     "metadata": {},
     "output_type": "execute_result"
    }
   ],
   "source": [
    "# Search for tweets containing \"Bellevue University\"\n",
    "api.GetSearch(term='Bellevue University', since=2022-1-1, count=10)"
   ]
  },
  {
   "cell_type": "code",
   "execution_count": 8,
   "id": "2e5f389b",
   "metadata": {},
   "outputs": [
    {
     "data": {
      "text/plain": [
       "[Status(ID=1494772576152920070, ScreenName=NBSaphierMD, Created=Fri Feb 18 20:35:28 +0000 2022, Text='Psaki: “The CDC guidance relies on data and science.”\\n\\n✏️✏️✏️\\n\\nThe CDC guidance relies on cherry-picked, biased dat… https://t.co/nkTASO8djx'),\n",
       " Status(ID=1494616647734337565, ScreenName=calvinrobinson, Created=Fri Feb 18 10:15:52 +0000 2022, Text='How do we \"follow the science\" when they hide it from us?\\n\\nWhen the data becomes inconvenient, they censor it.\\n\\nHow… https://t.co/55WQLdY4OJ'),\n",
       " Status(ID=1494771671907115012, ScreenName=charliespiering, Created=Fri Feb 18 20:31:52 +0000 2022, Text='Jen Psaki says CDC masking mandates will stay in place: \"What I can tell you is the CDC guidance follows data and s… https://t.co/nHLEqM9wbM'),\n",
       " Status(ID=1495226980656164864, ScreenName=py_data_sci, Created=Sun Feb 20 02:41:06 +0000 2022, Text='RT @DirtyDataGirl: @Tomovasky analytics is R, python, Excel mastery and visualization products. Data Science will focus on R &amp; python with…'),\n",
       " Status(ID=1495226962159312899, ScreenName=saimsays, Created=Sun Feb 20 02:41:02 +0000 2022, Text='RT @Saqibca: Data Science vs Data Darbaar it was and we won it comfortably Alhumdulillah 🙏🏻\\n\\nArt is the man ❤️\\n\\n#LQvsIU #Top2'),\n",
       " Status(ID=1495226814624641025, ScreenName=py_data_sci, Created=Sun Feb 20 02:40:27 +0000 2022, Text='RT @NadarSenpai: Teaching a Biomedical Data Science Course Using RStudio Cloud #Analytics #DataScience #AI #ML #RStats #Python #coding #Dat…'),\n",
       " Status(ID=1495226775039004672, ScreenName=CodeWithTwitchi, Created=Sun Feb 20 02:40:17 +0000 2022, Text='RT @NadarSenpai: Teaching a Biomedical Data Science Course Using RStudio Cloud #Analytics #DataScience #AI #ML #RStats #Python #coding #Dat…'),\n",
       " Status(ID=1495226735620542468, ScreenName=Corinne34780668, Created=Sun Feb 20 02:40:08 +0000 2022, Text='RT @MarsNeedsWomxn: @nzherald This is welcome, but hard not to be cynical. Does @actparty now finally understand science? Or did they final…'),\n",
       " Status(ID=1495226607237320708, ScreenName=EavesKevin, Created=Sun Feb 20 02:39:37 +0000 2022, Text='RT @NBSaphierMD: Psaki: “The CDC guidance relies on data and science.”\\n\\n✏️✏️✏️\\n\\nThe CDC guidance relies on cherry-picked, biased data and n…'),\n",
       " Status(ID=1495226459270438915, ScreenName=ayirpelle, Created=Sun Feb 20 02:39:02 +0000 2022, Text='RT @kc_analytics: Olympic gold medalist Nathan Chen is a data science major at Yale and an #rstats user. You love to see it! https://t.co/7…')]"
      ]
     },
     "execution_count": 8,
     "metadata": {},
     "output_type": "execute_result"
    }
   ],
   "source": [
    "# Search for tweets containing \"Data Science\"\n",
    "api.GetSearch(term='Data Science', since=2022-1-1, count=10)"
   ]
  },
  {
   "cell_type": "markdown",
   "id": "b0672bd2",
   "metadata": {},
   "source": [
    "## 4. Using one of the datasets provided in Weeks 7 & 8, or a dataset of your own, choose 3 of the following visualizations to complete. You must submit via PDF along with your code. You are free to use Matplotlib, Seaborn or another package if you prefer."
   ]
  },
  {
   "cell_type": "code",
   "execution_count": 9,
   "id": "67a82169",
   "metadata": {},
   "outputs": [],
   "source": [
    "# Load libraries\n",
    "import pandas as pd\n",
    "import matplotlib.pyplot as plt"
   ]
  },
  {
   "cell_type": "code",
   "execution_count": 18,
   "id": "88cc09cc",
   "metadata": {},
   "outputs": [],
   "source": [
    "# Load dataset\n",
    "mpg_df = pd.read_csv('Data/auto-mpg.csv')"
   ]
  },
  {
   "cell_type": "code",
   "execution_count": 19,
   "id": "954b17cd",
   "metadata": {},
   "outputs": [
    {
     "data": {
      "text/html": [
       "<div>\n",
       "<style scoped>\n",
       "    .dataframe tbody tr th:only-of-type {\n",
       "        vertical-align: middle;\n",
       "    }\n",
       "\n",
       "    .dataframe tbody tr th {\n",
       "        vertical-align: top;\n",
       "    }\n",
       "\n",
       "    .dataframe thead th {\n",
       "        text-align: right;\n",
       "    }\n",
       "</style>\n",
       "<table border=\"1\" class=\"dataframe\">\n",
       "  <thead>\n",
       "    <tr style=\"text-align: right;\">\n",
       "      <th></th>\n",
       "      <th>mpg</th>\n",
       "      <th>cylinders</th>\n",
       "      <th>displacement</th>\n",
       "      <th>horsepower</th>\n",
       "      <th>weight</th>\n",
       "      <th>acceleration</th>\n",
       "      <th>model year</th>\n",
       "      <th>origin</th>\n",
       "      <th>car name</th>\n",
       "    </tr>\n",
       "  </thead>\n",
       "  <tbody>\n",
       "    <tr>\n",
       "      <th>0</th>\n",
       "      <td>18.0</td>\n",
       "      <td>8</td>\n",
       "      <td>307.0</td>\n",
       "      <td>130</td>\n",
       "      <td>3504</td>\n",
       "      <td>12.0</td>\n",
       "      <td>70</td>\n",
       "      <td>1</td>\n",
       "      <td>chevrolet chevelle malibu</td>\n",
       "    </tr>\n",
       "    <tr>\n",
       "      <th>1</th>\n",
       "      <td>15.0</td>\n",
       "      <td>8</td>\n",
       "      <td>350.0</td>\n",
       "      <td>165</td>\n",
       "      <td>3693</td>\n",
       "      <td>11.5</td>\n",
       "      <td>70</td>\n",
       "      <td>1</td>\n",
       "      <td>buick skylark 320</td>\n",
       "    </tr>\n",
       "    <tr>\n",
       "      <th>2</th>\n",
       "      <td>18.0</td>\n",
       "      <td>8</td>\n",
       "      <td>318.0</td>\n",
       "      <td>150</td>\n",
       "      <td>3436</td>\n",
       "      <td>11.0</td>\n",
       "      <td>70</td>\n",
       "      <td>1</td>\n",
       "      <td>plymouth satellite</td>\n",
       "    </tr>\n",
       "    <tr>\n",
       "      <th>3</th>\n",
       "      <td>16.0</td>\n",
       "      <td>8</td>\n",
       "      <td>304.0</td>\n",
       "      <td>150</td>\n",
       "      <td>3433</td>\n",
       "      <td>12.0</td>\n",
       "      <td>70</td>\n",
       "      <td>1</td>\n",
       "      <td>amc rebel sst</td>\n",
       "    </tr>\n",
       "    <tr>\n",
       "      <th>4</th>\n",
       "      <td>17.0</td>\n",
       "      <td>8</td>\n",
       "      <td>302.0</td>\n",
       "      <td>140</td>\n",
       "      <td>3449</td>\n",
       "      <td>10.5</td>\n",
       "      <td>70</td>\n",
       "      <td>1</td>\n",
       "      <td>ford torino</td>\n",
       "    </tr>\n",
       "  </tbody>\n",
       "</table>\n",
       "</div>"
      ],
      "text/plain": [
       "    mpg  cylinders  displacement  horsepower  weight  acceleration  \\\n",
       "0  18.0          8         307.0         130    3504          12.0   \n",
       "1  15.0          8         350.0         165    3693          11.5   \n",
       "2  18.0          8         318.0         150    3436          11.0   \n",
       "3  16.0          8         304.0         150    3433          12.0   \n",
       "4  17.0          8         302.0         140    3449          10.5   \n",
       "\n",
       "   model year  origin                   car name  \n",
       "0          70       1  chevrolet chevelle malibu  \n",
       "1          70       1          buick skylark 320  \n",
       "2          70       1         plymouth satellite  \n",
       "3          70       1              amc rebel sst  \n",
       "4          70       1                ford torino  "
      ]
     },
     "execution_count": 19,
     "metadata": {},
     "output_type": "execute_result"
    }
   ],
   "source": [
    "# View the dataset\n",
    "mpg_df.head()"
   ]
  },
  {
   "cell_type": "markdown",
   "id": "6fb79095",
   "metadata": {},
   "source": [
    "### Scatter"
   ]
  },
  {
   "cell_type": "code",
   "execution_count": 20,
   "id": "c66c6679",
   "metadata": {},
   "outputs": [
    {
     "data": {
      "image/png": "[encoded data removed]",
      "text/plain": [
       "<Figure size 432x288 with 1 Axes>"
      ]
     },
     "metadata": {
      "needs_background": "light"
     },
     "output_type": "display_data"
    }
   ],
   "source": [
    "# Create a scatter plot of mpg by model year\n",
    "fig=plt.figure()\n",
    "ax=fig.add_axes([0, 0, 1, 1])\n",
    "ax.scatter(mpg_df['model year'], mpg_df['mpg'], color='r')\n",
    "ax.set_xlabel('Model Year')\n",
    "ax.set_ylabel('MPG')\n",
    "ax.set_title('MPG by Model Year')\n",
    "plt.show()"
   ]
  },
  {
   "cell_type": "markdown",
   "id": "002b8898",
   "metadata": {},
   "source": [
    "### Bar"
   ]
  },
  {
   "cell_type": "code",
   "execution_count": 21,
   "id": "65979dd0",
   "metadata": {},
   "outputs": [
    {
     "data": {
      "text/html": [
       "<div>\n",
       "<style scoped>\n",
       "    .dataframe tbody tr th:only-of-type {\n",
       "        vertical-align: middle;\n",
       "    }\n",
       "\n",
       "    .dataframe tbody tr th {\n",
       "        vertical-align: top;\n",
       "    }\n",
       "\n",
       "    .dataframe thead th {\n",
       "        text-align: right;\n",
       "    }\n",
       "</style>\n",
       "<table border=\"1\" class=\"dataframe\">\n",
       "  <thead>\n",
       "    <tr style=\"text-align: right;\">\n",
       "      <th></th>\n",
       "      <th>model year</th>\n",
       "      <th>horsepower</th>\n",
       "    </tr>\n",
       "  </thead>\n",
       "  <tbody>\n",
       "    <tr>\n",
       "      <th>0</th>\n",
       "      <td>70</td>\n",
       "      <td>147.827586</td>\n",
       "    </tr>\n",
       "    <tr>\n",
       "      <th>1</th>\n",
       "      <td>71</td>\n",
       "      <td>107.037037</td>\n",
       "    </tr>\n",
       "    <tr>\n",
       "      <th>2</th>\n",
       "      <td>72</td>\n",
       "      <td>120.178571</td>\n",
       "    </tr>\n",
       "    <tr>\n",
       "      <th>3</th>\n",
       "      <td>73</td>\n",
       "      <td>130.475000</td>\n",
       "    </tr>\n",
       "    <tr>\n",
       "      <th>4</th>\n",
       "      <td>74</td>\n",
       "      <td>94.230769</td>\n",
       "    </tr>\n",
       "    <tr>\n",
       "      <th>5</th>\n",
       "      <td>75</td>\n",
       "      <td>101.066667</td>\n",
       "    </tr>\n",
       "    <tr>\n",
       "      <th>6</th>\n",
       "      <td>76</td>\n",
       "      <td>101.117647</td>\n",
       "    </tr>\n",
       "    <tr>\n",
       "      <th>7</th>\n",
       "      <td>77</td>\n",
       "      <td>105.071429</td>\n",
       "    </tr>\n",
       "    <tr>\n",
       "      <th>8</th>\n",
       "      <td>78</td>\n",
       "      <td>99.694444</td>\n",
       "    </tr>\n",
       "    <tr>\n",
       "      <th>9</th>\n",
       "      <td>79</td>\n",
       "      <td>101.206897</td>\n",
       "    </tr>\n",
       "    <tr>\n",
       "      <th>10</th>\n",
       "      <td>80</td>\n",
       "      <td>77.481481</td>\n",
       "    </tr>\n",
       "    <tr>\n",
       "      <th>11</th>\n",
       "      <td>81</td>\n",
       "      <td>81.035714</td>\n",
       "    </tr>\n",
       "    <tr>\n",
       "      <th>12</th>\n",
       "      <td>82</td>\n",
       "      <td>81.466667</td>\n",
       "    </tr>\n",
       "  </tbody>\n",
       "</table>\n",
       "</div>"
      ],
      "text/plain": [
       "    model year  horsepower\n",
       "0           70  147.827586\n",
       "1           71  107.037037\n",
       "2           72  120.178571\n",
       "3           73  130.475000\n",
       "4           74   94.230769\n",
       "5           75  101.066667\n",
       "6           76  101.117647\n",
       "7           77  105.071429\n",
       "8           78   99.694444\n",
       "9           79  101.206897\n",
       "10          80   77.481481\n",
       "11          81   81.035714\n",
       "12          82   81.466667"
      ]
     },
     "execution_count": 21,
     "metadata": {},
     "output_type": "execute_result"
    }
   ],
   "source": [
    "# Build averages by year\n",
    "yearly_ave = mpg_df.groupby('model year', as_index=False)['horsepower'].mean()\n",
    "yearly_ave"
   ]
  },
  {
   "cell_type": "code",
   "execution_count": 22,
   "id": "d6803237",
   "metadata": {},
   "outputs": [
    {
     "data": {
      "image/png": "[encoded data removed]",
      "text/plain": [
       "<Figure size 432x288 with 1 Axes>"
      ]
     },
     "metadata": {
      "needs_background": "light"
     },
     "output_type": "display_data"
    }
   ],
   "source": [
    "# Create a bar Chart of the yearly averages\n",
    "plt.bar(yearly_ave['model year'], yearly_ave['horsepower'])\n",
    "plt.xlabel('Model Year')\n",
    "plt.ylabel('Average Horsepower')\n",
    "plt.title('Average Horsepower by Model Year')\n",
    "plt.show()"
   ]
  },
  {
   "cell_type": "markdown",
   "id": "5addb8f1",
   "metadata": {},
   "source": [
    "### Histogram"
   ]
  },
  {
   "cell_type": "code",
   "execution_count": 24,
   "id": "b3518b0a",
   "metadata": {},
   "outputs": [
    {
     "data": {
      "image/png": "[encoded data removed]",
      "text/plain": [
       "<Figure size 432x288 with 1 Axes>"
      ]
     },
     "metadata": {
      "needs_background": "light"
     },
     "output_type": "display_data"
    }
   ],
   "source": [
    "# Create a histogram of displacement\n",
    "plt.hist(mpg_df['displacement'], edgecolor=\"red\", bins=10)\n",
    "plt.xlabel('Displacement')\n",
    "plt.ylabel('Count of Models')\n",
    "plt.title('Model Count by Displacement')\n",
    "plt.show()\n"
   ]
  }
 ],
 "metadata": {
  "kernelspec": {
   "display_name": "Python 3",
   "language": "python",
   "name": "python3"
  },
  "language_info": {
   "codemirror_mode": {
    "name": "ipython",
    "version": 3
   },
   "file_extension": ".py",
   "mimetype": "text/x-python",
   "name": "python",
   "nbconvert_exporter": "python",
   "pygments_lexer": "ipython3",
   "version": "3.8.8"
  }
 },
 "nbformat": 4,
 "nbformat_minor": 5
}

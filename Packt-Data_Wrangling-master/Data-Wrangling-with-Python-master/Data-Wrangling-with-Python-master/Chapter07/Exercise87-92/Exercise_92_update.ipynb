{
 "cells": [
  {
   "cell_type": "code",
   "execution_count": 1,
   "id": "772e76f7",
   "metadata": {},
   "outputs": [],
   "source": [
    "import requests, urllib.parse\n",
    "serviceurl = 'https://api.exchangerate.host/latest?base=USD&symbols=EUR,GBP,INR&format=xml&amount='"
   ]
  },
  {
   "cell_type": "code",
   "execution_count": 2,
   "id": "e892911a",
   "metadata": {},
   "outputs": [
    {
     "name": "stdout",
     "output_type": "stream",
     "text": [
      "Enter the amount to convert: 2000\n",
      "Retrieved 344 characters\n"
     ]
    }
   ],
   "source": [
    "value = str(input('Enter the amount to convert: '))\n",
    "url = serviceurl + value\n",
    "uh = requests.get(url)\n",
    "data = uh.text\n",
    "print('Retrieved', len(data), 'characters')"
   ]
  },
  {
   "cell_type": "code",
   "execution_count": 3,
   "id": "ce131475",
   "metadata": {},
   "outputs": [
    {
     "name": "stdout",
     "output_type": "stream",
     "text": [
      "<?xml version=\"1.0\" encoding=\"UTF-8\"?>\n",
      "<document>\n",
      "<data>\n",
      "<code>EUR</code><rate>1726,139816</rate><base>USD</base><date>2021-11-03</date></data>\n",
      "<data>\n",
      "<code>GBP</code><rate>1468,429356</rate><base>USD</base><date>2021-11-03</date></data>\n",
      "<data>\n",
      "<code>INR</code><rate>149156,92974</rate><base>USD</base><date>2021-11-03</date></data>\n",
      "</document>\n"
     ]
    }
   ],
   "source": [
    "print(data)"
   ]
  },
  {
   "cell_type": "code",
   "execution_count": 4,
   "id": "f3f46fae",
   "metadata": {},
   "outputs": [],
   "source": [
    "import xml.etree.ElementTree as ET\n",
    "tree3 = ET.fromstring(data)"
   ]
  },
  {
   "cell_type": "code",
   "execution_count": 5,
   "id": "e30a9efa",
   "metadata": {},
   "outputs": [
    {
     "name": "stdout",
     "output_type": "stream",
     "text": [
      "\n",
      "\n",
      "\n",
      "\n",
      "EUR\n",
      "1726,139816\n",
      "USD\n",
      "2021-11-03\n",
      "\n",
      "\n",
      "GBP\n",
      "1468,429356\n",
      "USD\n",
      "2021-11-03\n",
      "\n",
      "\n",
      "INR\n",
      "149156,92974\n",
      "USD\n",
      "2021-11-03\n"
     ]
    }
   ],
   "source": [
    "for elem in tree3.iter():\n",
    "    print(elem.text)"
   ]
  },
  {
   "cell_type": "code",
   "execution_count": 6,
   "id": "eb3db517",
   "metadata": {},
   "outputs": [
    {
     "name": "stdout",
     "output_type": "stream",
     "text": [
      "2000 USD = 1726,139816 EUR\n",
      "2000 USD = 1468,429356 GBP\n",
      "2000 USD = 149156,92974 INR\n"
     ]
    }
   ],
   "source": [
    "for elem in tree3.iter():\n",
    "    curr=elem.find('code')\n",
    "    amount=elem.find('rate')\n",
    "    if curr!=None and amount!=None:\n",
    "        print(value + \" USD = \" + amount.text + \" \" + curr.text)"
   ]
  }
 ],
 "metadata": {
  "kernelspec": {
   "display_name": "Python 3",
   "language": "python",
   "name": "python3"
  },
  "language_info": {
   "codemirror_mode": {
    "name": "ipython",
    "version": 3
   },
   "file_extension": ".py",
   "mimetype": "text/x-python",
   "name": "python",
   "nbconvert_exporter": "python",
   "pygments_lexer": "ipython3",
   "version": "3.8.8"
  }
 },
 "nbformat": 4,
 "nbformat_minor": 5
}

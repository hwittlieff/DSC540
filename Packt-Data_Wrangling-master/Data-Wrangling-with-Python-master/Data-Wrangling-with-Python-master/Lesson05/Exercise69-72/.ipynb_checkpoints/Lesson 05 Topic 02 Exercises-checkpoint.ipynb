{
 "cells": [
  {
   "cell_type": "markdown",
   "metadata": {},
   "source": [
    "# Introduction to Beautifulsoup4 and web page parsing"
   ]
  },
  {
   "cell_type": "markdown",
   "metadata": {},
   "source": [
    "### Exercise 1 : Read a HTML file (from disk) using bs4"
   ]
  },
  {
   "cell_type": "code",
   "execution_count": 1,
   "metadata": {},
   "outputs": [],
   "source": [
    "from bs4 import BeautifulSoup"
   ]
  },
  {
   "cell_type": "code",
   "execution_count": 2,
   "metadata": {},
   "outputs": [
    {
     "name": "stdout",
     "output_type": "stream",
     "text": [
      "<class 'bs4.BeautifulSoup'>\n"
     ]
    }
   ],
   "source": [
    "with open(\"test.html\", \"r\") as fd:\n",
    "    soup = BeautifulSoup(fd)\n",
    "    print(type(soup))"
   ]
  },
  {
   "cell_type": "code",
   "execution_count": 3,
   "metadata": {},
   "outputs": [
    {
     "name": "stdout",
     "output_type": "stream",
     "text": [
      "<class 'list'>\n",
      "[<html><head></head><body><h1>Lorem ipsum dolor sit amet consectetuer adipiscing \n",
      "elit</h1>\n",
      "\n",
      "<p>Lorem ipsum dolor sit amet, consectetuer adipiscing \n",
      "elit. Aenean commodo ligula eget dolor. Aenean massa \n",
      "<strong>strong</strong>. Cum sociis natoque penatibus \n",
      "et magnis dis parturient montes, nascetur ridiculus \n",
      "mus. Donec quam felis, ultricies nec, pellentesque \n",
      "eu, pretium quis, sem. Nulla consequat massa quis \n",
      "enim. Donec pede justo, fringilla vel, aliquet nec, \n",
      "vulputate eget, arcu. In enim justo, rhoncus ut, \n",
      "imperdiet a, venenatis vitae, justo. Nullam dictum \n",
      "felis eu pede <a class=\"external ext\" href=\"#\">link</a> \n",
      "mollis pretium. Integer tincidunt. Cras dapibus. \n",
      "Vivamus elementum semper nisi. Aenean vulputate \n",
      "eleifend tellus. Aenean leo ligula, porttitor eu, \n",
      "consequat vitae, eleifend ac, enim. Aliquam lorem ante, \n",
      "dapibus in, viverra quis, feugiat a, tellus. Phasellus \n",
      "viverra nulla ut metus varius laoreet. Quisque rutrum. \n",
      "Aenean imperdiet. Etiam ultricies nisi vel augue. \n",
      "Curabitur ullamcorper ultricies nisi.</p>\n",
      "\n",
      "<h1>Lorem ipsum dolor sit amet consectetuer adipiscing \n",
      "elit</h1>\n",
      "\n",
      "<h2>Aenean commodo ligula eget dolor aenean massa</h2>\n",
      "\n",
      "<p>Lorem ipsum dolor sit amet, consectetuer adipiscing \n",
      "elit. Aenean commodo ligula eget dolor. Aenean massa. \n",
      "Cum sociis natoque penatibus et magnis dis parturient \n",
      "montes, nascetur ridiculus mus. Donec quam felis, \n",
      "ultricies nec, pellentesque eu, pretium quis, sem.</p>\n",
      "\n",
      "<h2>Aenean commodo ligula eget dolor aenean massa</h2>\n",
      "\n",
      "<p>Lorem ipsum dolor sit amet, consectetuer adipiscing \n",
      "elit. Aenean commodo ligula eget dolor. Aenean massa. \n",
      "Cum sociis natoque penatibus et magnis dis parturient \n",
      "montes, nascetur ridiculus mus. Donec quam felis, \n",
      "ultricies nec, pellentesque eu, pretium quis, sem.</p>\n",
      "\n",
      "<ul>\n",
      "  <li><a href=\"https://en.wikipedia.org/wiki/Entropy_(information_theory)\">Information Entropy</a></li>\n",
      "  <li><a href=\"http://www.gutenberg.org/browse/scores/top\">Top books in Gutenberg</a></li>\n",
      "  <li><a href=\"https://www.imdb.com/chart/top\">Top 250 movies in IMDB</a></li>\n",
      "</ul>\n",
      "\n",
      "<p>Lorem ipsum dolor sit amet, consectetuer adipiscing \n",
      "elit. Aenean commodo ligula eget dolor. Aenean massa. \n",
      "Cum sociis natoque penatibus et magnis dis parturient \n",
      "montes, nascetur ridiculus mus. Donec quam felis, \n",
      "ultricies nec, pellentesque eu, pretium quis, sem.</p>\n",
      "\n",
      "<form action=\"#\" method=\"post\">\n",
      "  <fieldset>\n",
      "    <label for=\"name\">Name:</label>\n",
      "    <input id=\"name\" placeholder=\"Enter your \n",
      "full name\" type=\"text\"/>\n",
      "\n",
      "    <label for=\"email\">Email:</label>\n",
      "    <input id=\"email\" placeholder=\"Enter \n",
      "your email address\" type=\"email\"/>\n",
      "\n",
      "    <label for=\"message\">Message:</label>\n",
      "    <textarea id=\"message\" placeholder=\"What's on your \n",
      "mind?\"></textarea>\n",
      "\n",
      "    <input type=\"submit\" value=\"Send message\"/>\n",
      "\n",
      "  </fieldset>\n",
      "</form>\n",
      "\n",
      "<p>Lorem ipsum dolor sit amet, consectetuer adipiscing \n",
      "elit. Aenean commodo ligula eget dolor. Aenean massa. \n",
      "Cum sociis natoque penatibus et magnis dis parturient \n",
      "montes, nascetur ridiculus mus. Donec quam felis, \n",
      "ultricies nec, pellentesque eu, pretium quis, sem.</p>\n",
      "\n",
      "<table class=\"data\">\n",
      "  <tbody><tr>\n",
      "    <th>Entry Header 1</th>\n",
      "    <th>Entry Header 2</th>\n",
      "    <th>Entry Header 3</th>\n",
      "    <th>Entry Header 4</th>\n",
      "  </tr>\n",
      "  <tr>\n",
      "    <td>Entry First Line 1</td>\n",
      "    <td>Entry First Line 2</td>\n",
      "    <td>Entry First Line 3</td>\n",
      "    <td>Entry First Line 4</td>\n",
      "  </tr>\n",
      "  <tr>\n",
      "    <td>Entry Line 1</td>\n",
      "    <td>Entry Line 2</td>\n",
      "    <td>Entry Line 3</td>\n",
      "    <td>Entry Line 4</td>\n",
      "  </tr>\n",
      "  <tr>\n",
      "    <td>Entry Last Line 1</td>\n",
      "    <td>Entry Last Line 2</td>\n",
      "    <td>Entry Last Line 3</td>\n",
      "    <td>Entry Last Line 4</td>\n",
      "  </tr>\n",
      "</tbody></table>\n",
      "\n",
      "<p>Lorem ipsum dolor sit amet, consectetuer adipiscing \n",
      "elit. Aenean commodo ligula eget dolor. Aenean massa. \n",
      "Cum sociis natoque penatibus et magnis dis parturient \n",
      "montes, nascetur ridiculus mus. Donec quam felis, \n",
      "ultricies nec, pellentesque eu, pretium quis, sem.</p>\n",
      "\n",
      "</body></html>]\n"
     ]
    }
   ],
   "source": [
    "with open(\"test.html\", \"r\") as fd:\n",
    "    soup = BeautifulSoup(fd)\n",
    "    print(type(soup.contents))\n",
    "    print(soup.contents)"
   ]
  },
  {
   "cell_type": "markdown",
   "metadata": {},
   "source": [
    "### Exercise 2 : Read a particular tag (And its contents)"
   ]
  },
  {
   "cell_type": "code",
   "execution_count": 4,
   "metadata": {},
   "outputs": [
    {
     "name": "stdout",
     "output_type": "stream",
     "text": [
      "<p>Lorem ipsum dolor sit amet, consectetuer adipiscing \n",
      "elit. Aenean commodo ligula eget dolor. Aenean massa \n",
      "<strong>strong</strong>. Cum sociis natoque penatibus \n",
      "et magnis dis parturient montes, nascetur ridiculus \n",
      "mus. Donec quam felis, ultricies nec, pellentesque \n",
      "eu, pretium quis, sem. Nulla consequat massa quis \n",
      "enim. Donec pede justo, fringilla vel, aliquet nec, \n",
      "vulputate eget, arcu. In enim justo, rhoncus ut, \n",
      "imperdiet a, venenatis vitae, justo. Nullam dictum \n",
      "felis eu pede <a class=\"external ext\" href=\"#\">link</a> \n",
      "mollis pretium. Integer tincidunt. Cras dapibus. \n",
      "Vivamus elementum semper nisi. Aenean vulputate \n",
      "eleifend tellus. Aenean leo ligula, porttitor eu, \n",
      "consequat vitae, eleifend ac, enim. Aliquam lorem ante, \n",
      "dapibus in, viverra quis, feugiat a, tellus. Phasellus \n",
      "viverra nulla ut metus varius laoreet. Quisque rutrum. \n",
      "Aenean imperdiet. Etiam ultricies nisi vel augue. \n",
      "Curabitur ullamcorper ultricies nisi.</p>\n"
     ]
    }
   ],
   "source": [
    "with open(\"test.html\", \"r\") as fd:\n",
    "    soup = BeautifulSoup(fd)\n",
    "    print(soup.p)"
   ]
  },
  {
   "cell_type": "markdown",
   "metadata": {},
   "source": [
    "### Exercise 3 : Read all tags of the same type from the document"
   ]
  },
  {
   "cell_type": "code",
   "execution_count": 5,
   "metadata": {},
   "outputs": [
    {
     "name": "stdout",
     "output_type": "stream",
     "text": [
      "Total number of <p>  --- 6\n",
      "[<p>Lorem ipsum dolor sit amet, consectetuer adipiscing \n",
      "elit. Aenean commodo ligula eget dolor. Aenean massa \n",
      "<strong>strong</strong>. Cum sociis natoque penatibus \n",
      "et magnis dis parturient montes, nascetur ridiculus \n",
      "mus. Donec quam felis, ultricies nec, pellentesque \n",
      "eu, pretium quis, sem. Nulla consequat massa quis \n",
      "enim. Donec pede justo, fringilla vel, aliquet nec, \n",
      "vulputate eget, arcu. In enim justo, rhoncus ut, \n",
      "imperdiet a, venenatis vitae, justo. Nullam dictum \n",
      "felis eu pede <a class=\"external ext\" href=\"#\">link</a> \n",
      "mollis pretium. Integer tincidunt. Cras dapibus. \n",
      "Vivamus elementum semper nisi. Aenean vulputate \n",
      "eleifend tellus. Aenean leo ligula, porttitor eu, \n",
      "consequat vitae, eleifend ac, enim. Aliquam lorem ante, \n",
      "dapibus in, viverra quis, feugiat a, tellus. Phasellus \n",
      "viverra nulla ut metus varius laoreet. Quisque rutrum. \n",
      "Aenean imperdiet. Etiam ultricies nisi vel augue. \n",
      "Curabitur ullamcorper ultricies nisi.</p>, <p>Lorem ipsum dolor sit amet, consectetuer adipiscing \n",
      "elit. Aenean commodo ligula eget dolor. Aenean massa. \n",
      "Cum sociis natoque penatibus et magnis dis parturient \n",
      "montes, nascetur ridiculus mus. Donec quam felis, \n",
      "ultricies nec, pellentesque eu, pretium quis, sem.</p>, <p>Lorem ipsum dolor sit amet, consectetuer adipiscing \n",
      "elit. Aenean commodo ligula eget dolor. Aenean massa. \n",
      "Cum sociis natoque penatibus et magnis dis parturient \n",
      "montes, nascetur ridiculus mus. Donec quam felis, \n",
      "ultricies nec, pellentesque eu, pretium quis, sem.</p>, <p>Lorem ipsum dolor sit amet, consectetuer adipiscing \n",
      "elit. Aenean commodo ligula eget dolor. Aenean massa. \n",
      "Cum sociis natoque penatibus et magnis dis parturient \n",
      "montes, nascetur ridiculus mus. Donec quam felis, \n",
      "ultricies nec, pellentesque eu, pretium quis, sem.</p>, <p>Lorem ipsum dolor sit amet, consectetuer adipiscing \n",
      "elit. Aenean commodo ligula eget dolor. Aenean massa. \n",
      "Cum sociis natoque penatibus et magnis dis parturient \n",
      "montes, nascetur ridiculus mus. Donec quam felis, \n",
      "ultricies nec, pellentesque eu, pretium quis, sem.</p>, <p>Lorem ipsum dolor sit amet, consectetuer adipiscing \n",
      "elit. Aenean commodo ligula eget dolor. Aenean massa. \n",
      "Cum sociis natoque penatibus et magnis dis parturient \n",
      "montes, nascetur ridiculus mus. Donec quam felis, \n",
      "ultricies nec, pellentesque eu, pretium quis, sem.</p>]\n"
     ]
    }
   ],
   "source": [
    "with open(\"test.html\", \"r\") as fd:\n",
    "    soup = BeautifulSoup(fd)\n",
    "    all_ps = soup.find_all('p')\n",
    "    print(\"Total number of <p>  --- {}\".format(len(all_ps)))\n",
    "    print(all_ps)"
   ]
  },
  {
   "cell_type": "markdown",
   "metadata": {},
   "source": [
    "### Exercise 4 : What is the content under a particular tag"
   ]
  },
  {
   "cell_type": "code",
   "execution_count": 6,
   "metadata": {},
   "outputs": [
    {
     "name": "stdout",
     "output_type": "stream",
     "text": [
      "['\\n  ', <tbody><tr>\n",
      "    <th>Entry Header 1</th>\n",
      "    <th>Entry Header 2</th>\n",
      "    <th>Entry Header 3</th>\n",
      "    <th>Entry Header 4</th>\n",
      "  </tr>\n",
      "  <tr>\n",
      "    <td>Entry First Line 1</td>\n",
      "    <td>Entry First Line 2</td>\n",
      "    <td>Entry First Line 3</td>\n",
      "    <td>Entry First Line 4</td>\n",
      "  </tr>\n",
      "  <tr>\n",
      "    <td>Entry Line 1</td>\n",
      "    <td>Entry Line 2</td>\n",
      "    <td>Entry Line 3</td>\n",
      "    <td>Entry Line 4</td>\n",
      "  </tr>\n",
      "  <tr>\n",
      "    <td>Entry Last Line 1</td>\n",
      "    <td>Entry Last Line 2</td>\n",
      "    <td>Entry Last Line 3</td>\n",
      "    <td>Entry Last Line 4</td>\n",
      "  </tr>\n",
      "</tbody>]\n"
     ]
    }
   ],
   "source": [
    "with open(\"test.html\", \"r\") as fd:\n",
    "    soup = BeautifulSoup(fd)\n",
    "    table = soup.table\n",
    "    print(table.contents)"
   ]
  },
  {
   "cell_type": "markdown",
   "metadata": {},
   "source": [
    "### Exercise 5: Using the children generator"
   ]
  },
  {
   "cell_type": "code",
   "execution_count": 7,
   "metadata": {},
   "outputs": [
    {
     "name": "stdout",
     "output_type": "stream",
     "text": [
      "\n",
      "  \n",
      "*****\n",
      "<tbody><tr>\n",
      "    <th>Entry Header 1</th>\n",
      "    <th>Entry Header 2</th>\n",
      "    <th>Entry Header 3</th>\n",
      "    <th>Entry Header 4</th>\n",
      "  </tr>\n",
      "  <tr>\n",
      "    <td>Entry First Line 1</td>\n",
      "    <td>Entry First Line 2</td>\n",
      "    <td>Entry First Line 3</td>\n",
      "    <td>Entry First Line 4</td>\n",
      "  </tr>\n",
      "  <tr>\n",
      "    <td>Entry Line 1</td>\n",
      "    <td>Entry Line 2</td>\n",
      "    <td>Entry Line 3</td>\n",
      "    <td>Entry Line 4</td>\n",
      "  </tr>\n",
      "  <tr>\n",
      "    <td>Entry Last Line 1</td>\n",
      "    <td>Entry Last Line 2</td>\n",
      "    <td>Entry Last Line 3</td>\n",
      "    <td>Entry Last Line 4</td>\n",
      "  </tr>\n",
      "</tbody>\n",
      "*****\n"
     ]
    }
   ],
   "source": [
    "with open(\"test.html\", \"r\") as fd:\n",
    "    soup = BeautifulSoup(fd)\n",
    "    table = soup.table\n",
    "    for child in table.children:\n",
    "        print(child)\n",
    "        print(\"*****\")"
   ]
  },
  {
   "cell_type": "markdown",
   "metadata": {},
   "source": [
    "### Exercise 6: Using the `descendants` generator"
   ]
  },
  {
   "cell_type": "code",
   "execution_count": 8,
   "metadata": {},
   "outputs": [
    {
     "name": "stdout",
     "output_type": "stream",
     "text": [
      "2 62\n",
      "\n",
      "  \n",
      "****\n",
      "<tbody><tr>\n",
      "    <th>Entry Header 1</th>\n",
      "    <th>Entry Header 2</th>\n",
      "    <th>Entry Header 3</th>\n",
      "    <th>Entry Header 4</th>\n",
      "  </tr>\n",
      "  <tr>\n",
      "    <td>Entry First Line 1</td>\n",
      "    <td>Entry First Line 2</td>\n",
      "    <td>Entry First Line 3</td>\n",
      "    <td>Entry First Line 4</td>\n",
      "  </tr>\n",
      "  <tr>\n",
      "    <td>Entry Line 1</td>\n",
      "    <td>Entry Line 2</td>\n",
      "    <td>Entry Line 3</td>\n",
      "    <td>Entry Line 4</td>\n",
      "  </tr>\n",
      "  <tr>\n",
      "    <td>Entry Last Line 1</td>\n",
      "    <td>Entry Last Line 2</td>\n",
      "    <td>Entry Last Line 3</td>\n",
      "    <td>Entry Last Line 4</td>\n",
      "  </tr>\n",
      "</tbody>\n",
      "****\n",
      "<tr>\n",
      "    <th>Entry Header 1</th>\n",
      "    <th>Entry Header 2</th>\n",
      "    <th>Entry Header 3</th>\n",
      "    <th>Entry Header 4</th>\n",
      "  </tr>\n",
      "****\n",
      "\n",
      "    \n",
      "****\n",
      "<th>Entry Header 1</th>\n",
      "****\n",
      "Entry Header 1\n",
      "****\n",
      "\n",
      "    \n",
      "****\n",
      "<th>Entry Header 2</th>\n",
      "****\n",
      "Entry Header 2\n",
      "****\n",
      "\n",
      "    \n",
      "****\n",
      "<th>Entry Header 3</th>\n",
      "****\n",
      "Entry Header 3\n",
      "****\n",
      "\n",
      "    \n",
      "****\n",
      "<th>Entry Header 4</th>\n",
      "****\n",
      "Entry Header 4\n",
      "****\n",
      "\n",
      "  \n",
      "****\n",
      "\n",
      "  \n",
      "****\n",
      "<tr>\n",
      "    <td>Entry First Line 1</td>\n",
      "    <td>Entry First Line 2</td>\n",
      "    <td>Entry First Line 3</td>\n",
      "    <td>Entry First Line 4</td>\n",
      "  </tr>\n",
      "****\n",
      "\n",
      "    \n",
      "****\n",
      "<td>Entry First Line 1</td>\n",
      "****\n",
      "Entry First Line 1\n",
      "****\n",
      "\n",
      "    \n",
      "****\n",
      "<td>Entry First Line 2</td>\n",
      "****\n",
      "Entry First Line 2\n",
      "****\n",
      "\n",
      "    \n",
      "****\n",
      "<td>Entry First Line 3</td>\n",
      "****\n",
      "Entry First Line 3\n",
      "****\n",
      "\n",
      "    \n",
      "****\n",
      "<td>Entry First Line 4</td>\n",
      "****\n",
      "Entry First Line 4\n",
      "****\n",
      "\n",
      "  \n",
      "****\n",
      "\n",
      "  \n",
      "****\n",
      "<tr>\n",
      "    <td>Entry Line 1</td>\n",
      "    <td>Entry Line 2</td>\n",
      "    <td>Entry Line 3</td>\n",
      "    <td>Entry Line 4</td>\n",
      "  </tr>\n",
      "****\n",
      "\n",
      "    \n",
      "****\n",
      "<td>Entry Line 1</td>\n",
      "****\n",
      "Entry Line 1\n",
      "****\n",
      "\n",
      "    \n",
      "****\n",
      "<td>Entry Line 2</td>\n",
      "****\n",
      "Entry Line 2\n",
      "****\n",
      "\n",
      "    \n",
      "****\n",
      "<td>Entry Line 3</td>\n",
      "****\n",
      "Entry Line 3\n",
      "****\n",
      "\n",
      "    \n",
      "****\n",
      "<td>Entry Line 4</td>\n",
      "****\n",
      "Entry Line 4\n",
      "****\n",
      "\n",
      "  \n",
      "****\n",
      "\n",
      "  \n",
      "****\n",
      "<tr>\n",
      "    <td>Entry Last Line 1</td>\n",
      "    <td>Entry Last Line 2</td>\n",
      "    <td>Entry Last Line 3</td>\n",
      "    <td>Entry Last Line 4</td>\n",
      "  </tr>\n",
      "****\n",
      "\n",
      "    \n",
      "****\n",
      "<td>Entry Last Line 1</td>\n",
      "****\n",
      "Entry Last Line 1\n",
      "****\n",
      "\n",
      "    \n",
      "****\n",
      "<td>Entry Last Line 2</td>\n",
      "****\n",
      "Entry Last Line 2\n",
      "****\n",
      "\n",
      "    \n",
      "****\n",
      "<td>Entry Last Line 3</td>\n",
      "****\n",
      "Entry Last Line 3\n",
      "****\n",
      "\n",
      "    \n",
      "****\n",
      "<td>Entry Last Line 4</td>\n",
      "****\n",
      "Entry Last Line 4\n",
      "****\n",
      "\n",
      "  \n",
      "****\n",
      "\n",
      "\n",
      "****\n"
     ]
    }
   ],
   "source": [
    "with open(\"test.html\", \"r\") as fd:\n",
    "    soup = BeautifulSoup(fd)\n",
    "    table = soup.table\n",
    "    children = table.children\n",
    "    des = table.descendants\n",
    "    print(len(list(children)), len(list(des)))\n",
    "    for d in table.descendants:\n",
    "        print(d)\n",
    "        print(\"****\")"
   ]
  },
  {
   "cell_type": "markdown",
   "metadata": {},
   "source": [
    "### Exercise 7 (Using findAll and getting the `tr`s, and finally getting it all in a pandas DF)"
   ]
  },
  {
   "cell_type": "code",
   "execution_count": 9,
   "metadata": {},
   "outputs": [
    {
     "name": "stdout",
     "output_type": "stream",
     "text": [
      "Data is a <class 'bs4.element.ResultSet'> and 4 items long\n"
     ]
    },
    {
     "data": {
      "text/html": [
       "<div>\n",
       "<style scoped>\n",
       "    .dataframe tbody tr th:only-of-type {\n",
       "        vertical-align: middle;\n",
       "    }\n",
       "\n",
       "    .dataframe tbody tr th {\n",
       "        vertical-align: top;\n",
       "    }\n",
       "\n",
       "    .dataframe thead th {\n",
       "        text-align: right;\n",
       "    }\n",
       "</style>\n",
       "<table border=\"1\" class=\"dataframe\">\n",
       "  <thead>\n",
       "    <tr style=\"text-align: right;\">\n",
       "      <th></th>\n",
       "      <th>Entry Header 1</th>\n",
       "      <th>Entry Header 2</th>\n",
       "      <th>Entry Header 3</th>\n",
       "      <th>Entry Header 4</th>\n",
       "    </tr>\n",
       "  </thead>\n",
       "  <tbody>\n",
       "    <tr>\n",
       "      <th>0</th>\n",
       "      <td>Entry First Line 1</td>\n",
       "      <td>Entry First Line 2</td>\n",
       "      <td>Entry First Line 3</td>\n",
       "      <td>Entry First Line 4</td>\n",
       "    </tr>\n",
       "    <tr>\n",
       "      <th>1</th>\n",
       "      <td>Entry Line 1</td>\n",
       "      <td>Entry Line 2</td>\n",
       "      <td>Entry Line 3</td>\n",
       "      <td>Entry Line 4</td>\n",
       "    </tr>\n",
       "    <tr>\n",
       "      <th>2</th>\n",
       "      <td>Entry Last Line 1</td>\n",
       "      <td>Entry Last Line 2</td>\n",
       "      <td>Entry Last Line 3</td>\n",
       "      <td>Entry Last Line 4</td>\n",
       "    </tr>\n",
       "  </tbody>\n",
       "</table>\n",
       "</div>"
      ],
      "text/plain": [
       "       Entry Header 1      Entry Header 2      Entry Header 3  \\\n",
       "0  Entry First Line 1  Entry First Line 2  Entry First Line 3   \n",
       "1        Entry Line 1        Entry Line 2        Entry Line 3   \n",
       "2   Entry Last Line 1   Entry Last Line 2   Entry Last Line 3   \n",
       "\n",
       "       Entry Header 4  \n",
       "0  Entry First Line 4  \n",
       "1        Entry Line 4  \n",
       "2   Entry Last Line 4  "
      ]
     },
     "execution_count": 9,
     "metadata": {},
     "output_type": "execute_result"
    }
   ],
   "source": [
    "import pandas as pd\n",
    "\n",
    "fd = open(\"test.html\", \"r\")\n",
    "soup = BeautifulSoup(fd)\n",
    "data = soup.findAll('tr')\n",
    "print(\"Data is a {} and {} items long\".format(type(data), len(data)))\n",
    "\n",
    "data_without_header = data[1:]\n",
    "headers = data[0]\n",
    "\n",
    "col_headers = [th.getText() for th in headers.findAll('th')]\n",
    "df_data = [[td.getText() for td in tr.findAll('td')] for tr in data_without_header] # nested list-comp for 2d struct\n",
    "\n",
    "fd.close()\n",
    "\n",
    "df = pd.DataFrame(df_data, columns=col_headers)\n",
    "df.head()"
   ]
  },
  {
   "cell_type": "markdown",
   "metadata": {},
   "source": [
    "### Exercise 8: Export the df to excel file"
   ]
  },
  {
   "cell_type": "code",
   "execution_count": 10,
   "metadata": {},
   "outputs": [
    {
     "name": "stdout",
     "output_type": "stream",
     "text": [
      "Collecting openpyxl\n",
      "\u001b[?25l  Downloading https://files.pythonhosted.org/packages/04/18/64737cc6c5233e15374d21b4958a5600be52359e71063b4d4e7a604a1387/openpyxl-2.5.9.tar.gz (1.9MB)\n",
      "\u001b[K    100% |████████████████████████████████| 1.9MB 3.8MB/s ta 0:00:011\n",
      "\u001b[?25hCollecting jdcal (from openpyxl)\n",
      "  Downloading https://files.pythonhosted.org/packages/a0/38/dcf83532480f25284f3ef13f8ed63e03c58a65c9d3ba2a6a894ed9497207/jdcal-1.4-py2.py3-none-any.whl\n",
      "Collecting et_xmlfile (from openpyxl)\n",
      "  Downloading https://files.pythonhosted.org/packages/22/28/a99c42aea746e18382ad9fb36f64c1c1f04216f41797f2f0fa567da11388/et_xmlfile-1.0.1.tar.gz\n",
      "Building wheels for collected packages: openpyxl, et-xmlfile\n",
      "  Running setup.py bdist_wheel for openpyxl ... \u001b[?25ldone\n",
      "\u001b[?25h  Stored in directory: /root/.cache/pip/wheels/57/41/b9/3765af8bda4a8d4b6aaf4957d7214984c3332348713e85cf36\n",
      "  Running setup.py bdist_wheel for et-xmlfile ... \u001b[?25ldone\n",
      "\u001b[?25h  Stored in directory: /root/.cache/pip/wheels/2a/77/35/0da0965a057698121fc7d8c5a7a9955cdbfb3cc4e2423cad39\n",
      "Successfully built openpyxl et-xmlfile\n",
      "Installing collected packages: jdcal, et-xmlfile, openpyxl\n",
      "Successfully installed et-xmlfile-1.0.1 jdcal-1.4 openpyxl-2.5.9\n",
      "\u001b[33mYou are using pip version 18.0, however version 18.1 is available.\n",
      "You should consider upgrading via the 'pip install --upgrade pip' command.\u001b[0m\n"
     ]
    }
   ],
   "source": [
    "!pip install openpyxl"
   ]
  },
  {
   "cell_type": "code",
   "execution_count": 11,
   "metadata": {},
   "outputs": [],
   "source": [
    "writer = pd.ExcelWriter('test_output.xlsx')\n",
    "df.to_excel(writer, \"Sheet1\")\n",
    "writer.save()"
   ]
  },
  {
   "cell_type": "markdown",
   "metadata": {},
   "source": [
    "### Exercise 9: Stacking URLs (to follow them at a later point)"
   ]
  },
  {
   "cell_type": "code",
   "execution_count": 16,
   "metadata": {},
   "outputs": [],
   "source": [
    "fd = open(\"test.html\", \"r\")\n",
    "soup = BeautifulSoup(fd)\n",
    "\n",
    "lis = soup.find('ul').findAll('li')\n",
    "stack = []\n",
    "for li in lis:\n",
    "    a = li.find('a', href=True)\n",
    "    stack.append(a['href'])"
   ]
  },
  {
   "cell_type": "code",
   "execution_count": 17,
   "metadata": {},
   "outputs": [
    {
     "name": "stdout",
     "output_type": "stream",
     "text": [
      "['https://en.wikipedia.org/wiki/Entropy_(information_theory)', 'http://www.gutenberg.org/browse/scores/top', 'https://www.imdb.com/chart/top']\n"
     ]
    }
   ],
   "source": [
    "print(stack)"
   ]
  }
 ],
 "metadata": {
  "kernelspec": {
   "display_name": "Python 3",
   "language": "python",
   "name": "python3"
  },
  "language_info": {
   "codemirror_mode": {
    "name": "ipython",
    "version": 3
   },
   "file_extension": ".py",
   "mimetype": "text/x-python",
   "name": "python",
   "nbconvert_exporter": "python",
   "pygments_lexer": "ipython3",
   "version": "3.6.6"
  }
 },
 "nbformat": 4,
 "nbformat_minor": 2
}
